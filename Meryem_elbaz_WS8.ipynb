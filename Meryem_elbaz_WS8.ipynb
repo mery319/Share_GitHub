{
 "cells": [
  {
   "cell_type": "markdown",
   "metadata": {},
   "source": [
    "### Hello! This is your last graded worksheet!\n",
    "\n",
    "Meryem EL Baz"
   ]
  },
  {
   "cell_type": "markdown",
   "metadata": {},
   "source": [
    "For this worksheet, we are using the data for the Higgs Boson challenge. The files are called \"Higgs_features.csv\" and \"Higgs_labels.csv\". The labels are 0 and 1, corresponding to \"no Higgs signal\", and \"Higgs signal\".\n",
    "\n",
    "We will start with a decision tree and then move on to RFs and ERTs. Note that the next two tasks are required but not grade-bearing since you did this already!"
   ]
  },
  {
   "cell_type": "code",
   "execution_count": 1,
   "metadata": {},
   "outputs": [],
   "source": [
    "import numpy as np\n",
    "\n",
    "from sklearn.model_selection import cross_val_score,cross_val_predict\n",
    "from sklearn import metrics\n",
    "from sklearn.model_selection import KFold,StratifiedKFold\n",
    "\n",
    "from sklearn.tree import DecisionTreeClassifier\n",
    "from sklearn.ensemble import RandomForestClassifier, RandomForestRegressor\n",
    "from sklearn.ensemble import ExtraTreesClassifier, ExtraTreesRegressor\n",
    "\n",
    "from sklearn.model_selection import GridSearchCV"
   ]
  },
  {
   "cell_type": "markdown",
   "metadata": {},
   "source": [
    "TASK: Read the data into two numpy arrays, one for features and one for labels."
   ]
  },
  {
   "cell_type": "code",
   "execution_count": 5,
   "metadata": {},
   "outputs": [
    {
     "name": "stdout",
     "output_type": "stream",
     "text": [
      "[[ 393.335   79.46   308.879 ...   -1.411   49.063   39.478]\n",
      " [  71.048   29.291   55.602 ...   -1.412   22.926    9.486]\n",
      " [ 141.45    87.017   72.091 ...    1.233   23.591   69.754]\n",
      " ...\n",
      " [  78.421   51.766   51.303 ...    1.108   26.775   30.509]\n",
      " [  90.507   70.86    75.535 ...   -1.41    45.511   27.279]\n",
      " [-999.      71.491   35.996 ...   -1.395   20.52    44.2  ]]\n",
      "[0. 0. 0. ... 0. 0. 0.]\n"
     ]
    }
   ],
   "source": [
    "x=np.genfromtxt(\"Higgs_features.txt\", delimiter=',')\n",
    "y=np.genfromtxt(\"Higgs_labels.txt\", delimiter=',')\n",
    "print(x)\n",
    "print(y)"
   ]
  },
  {
   "cell_type": "markdown",
   "metadata": {},
   "source": [
    "TASK: Use a decision tree classifier as your model, and do five fold cross validation on your data, <b> using the function cross\\_val\\_score and precision as the scoring parameter</b>. Report the mean and standard deviation of the scores obtained for the five folds."
   ]
  },
  {
   "cell_type": "code",
   "execution_count": 16,
   "metadata": {},
   "outputs": [
    {
     "name": "stdout",
     "output_type": "stream",
     "text": [
      "[0.63699024 0.63770686 0.62162162 0.62672018 0.63467132]\n",
      "0.6315420433863715\n",
      "0.006311025045583136\n"
     ]
    }
   ],
   "source": [
    "model_1 = DecisionTreeClassifier()\n",
    "scores = cross_val_score(model_1, x, y, cv=StratifiedKFold(shuffle=True, n_splits=5), scoring='precision') \n",
    "print(scores) \n",
    "print(np.mean(scores))\n",
    "print(np.std(scores))"
   ]
  },
  {
   "cell_type": "markdown",
   "metadata": {},
   "source": [
    "1\\. Now you can do the same for a Random Forest Classifier with default parameters."
   ]
  },
  {
   "cell_type": "code",
   "execution_count": 17,
   "metadata": {},
   "outputs": [
    {
     "name": "stderr",
     "output_type": "stream",
     "text": [
      "C:\\Users\\merye\\Anaconda3\\lib\\site-packages\\sklearn\\ensemble\\forest.py:246: FutureWarning: The default value of n_estimators will change from 10 in version 0.20 to 100 in 0.22.\n",
      "  \"10 in version 0.20 to 100 in 0.22.\", FutureWarning)\n",
      "C:\\Users\\merye\\Anaconda3\\lib\\site-packages\\sklearn\\ensemble\\forest.py:246: FutureWarning: The default value of n_estimators will change from 10 in version 0.20 to 100 in 0.22.\n",
      "  \"10 in version 0.20 to 100 in 0.22.\", FutureWarning)\n",
      "C:\\Users\\merye\\Anaconda3\\lib\\site-packages\\sklearn\\ensemble\\forest.py:246: FutureWarning: The default value of n_estimators will change from 10 in version 0.20 to 100 in 0.22.\n",
      "  \"10 in version 0.20 to 100 in 0.22.\", FutureWarning)\n",
      "C:\\Users\\merye\\Anaconda3\\lib\\site-packages\\sklearn\\ensemble\\forest.py:246: FutureWarning: The default value of n_estimators will change from 10 in version 0.20 to 100 in 0.22.\n",
      "  \"10 in version 0.20 to 100 in 0.22.\", FutureWarning)\n",
      "C:\\Users\\merye\\Anaconda3\\lib\\site-packages\\sklearn\\ensemble\\forest.py:246: FutureWarning: The default value of n_estimators will change from 10 in version 0.20 to 100 in 0.22.\n",
      "  \"10 in version 0.20 to 100 in 0.22.\", FutureWarning)\n"
     ]
    },
    {
     "name": "stdout",
     "output_type": "stream",
     "text": [
      "[0.7471831  0.76133985 0.74879227 0.74166075 0.75205479]\n",
      "0.7502061524852046\n",
      "0.00650443541730654\n"
     ]
    }
   ],
   "source": [
    "model_2=RandomForestClassifier()\n",
    "scores = cross_val_score(model_2, x, y, cv=StratifiedKFold(shuffle=True, n_splits=5), scoring='precision') \n",
    "print(scores) \n",
    "print(np.mean(scores))\n",
    "print(np.std(scores))"
   ]
  },
  {
   "cell_type": "code",
   "execution_count": 27,
   "metadata": {},
   "outputs": [
    {
     "name": "stderr",
     "output_type": "stream",
     "text": [
      "C:\\Users\\merye\\Anaconda3\\lib\\site-packages\\sklearn\\ensemble\\forest.py:246: FutureWarning: The default value of n_estimators will change from 10 in version 0.20 to 100 in 0.22.\n",
      "  \"10 in version 0.20 to 100 in 0.22.\", FutureWarning)\n",
      "C:\\Users\\merye\\Anaconda3\\lib\\site-packages\\sklearn\\ensemble\\forest.py:246: FutureWarning: The default value of n_estimators will change from 10 in version 0.20 to 100 in 0.22.\n",
      "  \"10 in version 0.20 to 100 in 0.22.\", FutureWarning)\n",
      "C:\\Users\\merye\\Anaconda3\\lib\\site-packages\\sklearn\\ensemble\\forest.py:246: FutureWarning: The default value of n_estimators will change from 10 in version 0.20 to 100 in 0.22.\n",
      "  \"10 in version 0.20 to 100 in 0.22.\", FutureWarning)\n",
      "C:\\Users\\merye\\Anaconda3\\lib\\site-packages\\sklearn\\ensemble\\forest.py:246: FutureWarning: The default value of n_estimators will change from 10 in version 0.20 to 100 in 0.22.\n",
      "  \"10 in version 0.20 to 100 in 0.22.\", FutureWarning)\n",
      "C:\\Users\\merye\\Anaconda3\\lib\\site-packages\\sklearn\\ensemble\\forest.py:246: FutureWarning: The default value of n_estimators will change from 10 in version 0.20 to 100 in 0.22.\n",
      "  \"10 in version 0.20 to 100 in 0.22.\", FutureWarning)\n"
     ]
    },
    {
     "name": "stdout",
     "output_type": "stream",
     "text": [
      "[0.8  0.82 0.8  0.81 0.8 ]\n",
      "0.8073198688319947\n",
      "0.006396116869117435\n"
     ]
    }
   ],
   "source": [
    "model_2=RandomForestClassifier()\n",
    "scores = cross_val_score(model_2, x, y, cv=StratifiedKFold(shuffle=True, n_splits=5)) \n",
    "print(scores) \n",
    "print(np.mean(scores))\n",
    "print(np.std(scores))"
   ]
  },
  {
   "cell_type": "markdown",
   "metadata": {},
   "source": [
    "2\\. Which model performs better \"out of the box\"?"
   ]
  },
  {
   "cell_type": "raw",
   "metadata": {},
   "source": [
    "The Random Forest classifier performs better than the Decision Tree since it gives us better scores."
   ]
  },
  {
   "cell_type": "markdown",
   "metadata": {},
   "source": [
    "3\\. Let's try and diagnose the high bias/high variance for this classifier. You can import the function \"check train test\" from the lecture notebook and use it to evaluate the gap between train and test scores for the decision tree and for the random forest."
   ]
  },
  {
   "cell_type": "code",
   "execution_count": 18,
   "metadata": {},
   "outputs": [],
   "source": [
    "from sklearn.model_selection import train_test_split\n",
    "def checktraintest(X, y, model, ntrials =5, test_size = 0.2):\n",
    "\n",
    "    scores_train = np.zeros(ntrials)\n",
    "    scores_test = np.zeros(ntrials)\n",
    "\n",
    "    for i in range(ntrials):\n",
    "        X_train, X_test, y_train, y_test = \\\n",
    "        train_test_split(X, y, test_size=test_size, random_state=i)\n",
    "        model.fit(X_train, y_train)\n",
    "        pred_test = model.predict(X_test)\n",
    "        pred_train = model.predict(X_train)\n",
    "\n",
    "        scores_test[i] = (metrics.accuracy_score(y_test,pred_test))\n",
    "        scores_train[i] =(metrics.accuracy_score(y_train,pred_train))\n",
    "\n",
    "    print('Training scores '+str(scores_train.mean())+' +- '+str(scores_train.std()))\n",
    "    print('Test scores '+str(scores_test.mean())+' +- '+str(scores_test.std()))"
   ]
  },
  {
   "cell_type": "code",
   "execution_count": 28,
   "metadata": {},
   "outputs": [
    {
     "name": "stdout",
     "output_type": "stream",
     "text": [
      "Training scores 1.0 +- 0.0\n",
      "Test scores 0.7545999999999999 +- 0.005422914345626328\n"
     ]
    }
   ],
   "source": [
    "checktraintest(x,y,DecisionTreeClassifier())"
   ]
  },
  {
   "cell_type": "code",
   "execution_count": 19,
   "metadata": {},
   "outputs": [
    {
     "name": "stderr",
     "output_type": "stream",
     "text": [
      "C:\\Users\\merye\\Anaconda3\\lib\\site-packages\\sklearn\\ensemble\\forest.py:246: FutureWarning: The default value of n_estimators will change from 10 in version 0.20 to 100 in 0.22.\n",
      "  \"10 in version 0.20 to 100 in 0.22.\", FutureWarning)\n"
     ]
    },
    {
     "name": "stdout",
     "output_type": "stream",
     "text": [
      "Training scores 0.9863799999999999 +- 0.0010047885349664383\n",
      "Test scores 0.8037599999999999 +- 0.002672526894158434\n"
     ]
    }
   ],
   "source": [
    "checktraintest(x,y,RandomForestClassifier())"
   ]
  },
  {
   "cell_type": "markdown",
   "metadata": {},
   "source": [
    "4\\. Based on what you saw above, do you see a high bias or high variance issue for the RF?"
   ]
  },
  {
   "cell_type": "raw",
   "metadata": {},
   "source": [
    "The test scores are pretty low compared to the training score, which mean that our model might be suffering from hight variance"
   ]
  },
  {
   "cell_type": "markdown",
   "metadata": {},
   "source": [
    "5\\. Report the confusion matrix for the two algorithms (note: you will need to use \"cross_val_predict\" to generate the two vectors of predicted values for the two algorithm). What are the main differences?"
   ]
  },
  {
   "cell_type": "code",
   "execution_count": 15,
   "metadata": {},
   "outputs": [],
   "source": [
    "from sklearn.metrics import confusion_matrix\n",
    "import matplotlib.pyplot as plt\n",
    "import itertools\n",
    "\n",
    "def plot_confusion_matrix(cm, classes,\n",
    "                          normalize=False,\n",
    "                          title='Confusion matrix',\n",
    "                          cmap=plt.cm.Blues):\n",
    "    \n",
    "    if normalize:\n",
    "        cm = cm.astype('float') / cm.sum(axis=1)[:, np.newaxis]\n",
    "        print(\"Normalized confusion matrix\")\n",
    "    else:\n",
    "        print('Confusion matrix, without normalization')\n",
    "\n",
    "    print(cm)\n",
    "\n",
    "    plt.imshow(cm, interpolation='nearest', cmap=cmap)\n",
    "    plt.title(title)\n",
    "    plt.colorbar()\n",
    "    tick_marks = np.arange(len(classes))\n",
    "    plt.xticks(tick_marks, classes, rotation=45)\n",
    "    plt.yticks(tick_marks, classes)\n",
    "\n",
    "    fmt = '.2f' if normalize else 'd'\n",
    "    thresh = cm.max() / 2.\n",
    "    for i, j in itertools.product(range(cm.shape[0]), range(cm.shape[1])):\n",
    "        plt.text(j, i, format(cm[i, j], fmt),\n",
    "                 horizontalalignment=\"center\",\n",
    "                 color=\"white\" if cm[i, j] > thresh else \"black\")\n",
    "\n",
    "    plt.tight_layout()\n",
    "    plt.ylabel('True label')\n",
    "    plt.xlabel('Predicted label')\n"
   ]
  },
  {
   "cell_type": "code",
   "execution_count": 21,
   "metadata": {},
   "outputs": [],
   "source": [
    "xtrain, xtest, ytrain, ytest = train_test_split(x,y,\\\n",
    "                                                              test_size = 0.2,random_state=0) \n",
    "model_1.fit(xtrain,ytrain)\n",
    "ypred = model_1.predict(xtest)"
   ]
  },
  {
   "cell_type": "code",
   "execution_count": 23,
   "metadata": {},
   "outputs": [
    {
     "name": "stdout",
     "output_type": "stream",
     "text": [
      "Confusion matrix, without normalization\n",
      "[[2704  600]\n",
      " [ 599 1097]]\n"
     ]
    },
    {
     "data": {
      "image/png": "[encoded data removed]",
      "text/plain": [
       "<Figure size 432x288 with 2 Axes>"
      ]
     },
     "metadata": {
      "needs_background": "light"
     },
     "output_type": "display_data"
    }
   ],
   "source": [
    "cnf_matrix = confusion_matrix(ytest, ypred)\n",
    "np.set_printoptions(precision=2)\n",
    "\n",
    "plt.figure()\n",
    "plot_confusion_matrix(cnf_matrix, classes=['0','1'],\n",
    "                      title='Confusion matrix for Decision Tree Classifier')"
   ]
  },
  {
   "cell_type": "code",
   "execution_count": 24,
   "metadata": {},
   "outputs": [
    {
     "name": "stderr",
     "output_type": "stream",
     "text": [
      "C:\\Users\\merye\\Anaconda3\\lib\\site-packages\\sklearn\\ensemble\\forest.py:246: FutureWarning: The default value of n_estimators will change from 10 in version 0.20 to 100 in 0.22.\n",
      "  \"10 in version 0.20 to 100 in 0.22.\", FutureWarning)\n"
     ]
    }
   ],
   "source": [
    "xtrain, xtest, ytrain, ytest = train_test_split(x,y,\\\n",
    "                                                              test_size = 0.2,random_state=0) \n",
    "model_2.fit(xtrain,ytrain)\n",
    "ypred = model_2.predict(xtest)"
   ]
  },
  {
   "cell_type": "code",
   "execution_count": 25,
   "metadata": {},
   "outputs": [
    {
     "name": "stdout",
     "output_type": "stream",
     "text": [
      "Confusion matrix, without normalization\n",
      "[[2947  357]\n",
      " [ 645 1051]]\n"
     ]
    },
    {
     "data": {
      "image/png": "[encoded data removed]",
      "text/plain": [
       "<Figure size 432x288 with 2 Axes>"
      ]
     },
     "metadata": {
      "needs_background": "light"
     },
     "output_type": "display_data"
    }
   ],
   "source": [
    "cnf_matrix = confusion_matrix(ytest, ypred)\n",
    "np.set_printoptions(precision=2)\n",
    "\n",
    "plt.figure()\n",
    "plot_confusion_matrix(cnf_matrix, classes=['0','1'],\n",
    "                      title='Confusion matrix for Decision Tree Classifier')"
   ]
  },
  {
   "cell_type": "raw",
   "metadata": {},
   "source": [
    "The difference is not very big; however, we see that the numberof false positives is larger in the decision tree classifier compared to the Random Forest. on the other hand, the number of true negatives is larger in the Random Forest Classifier."
   ]
  },
  {
   "cell_type": "markdown",
   "metadata": {},
   "source": [
    "6\\. Let's do some simple optimization: run a 5 fold CV (don't forget to shuffle the data set if needed!) with n_estimators = 10, 20, 50 and report the difference. Is it worth going beyond 50 trees in your opinion?"
   ]
  },
  {
   "cell_type": "code",
   "execution_count": 38,
   "metadata": {},
   "outputs": [
    {
     "name": "stdout",
     "output_type": "stream",
     "text": [
      "[0.81 0.81 0.82 0.81 0.8 ]\n",
      "0.8082798608943944\n",
      "0.004129849908340458\n"
     ]
    }
   ],
   "source": [
    "model_2=RandomForestClassifier(n_estimators=10)\n",
    "scores = cross_val_score(model_2, x, y, cv=StratifiedKFold(shuffle=True, n_splits=5)) \n",
    "print(scores) \n",
    "print(np.mean(scores))\n",
    "print(np.std(scores))"
   ]
  },
  {
   "cell_type": "code",
   "execution_count": 56,
   "metadata": {},
   "outputs": [
    {
     "name": "stdout",
     "output_type": "stream",
     "text": [
      "[0.74 0.75 0.76 0.76 0.74]\n",
      "0.7517481674462745\n",
      "0.007698844895097737\n"
     ]
    }
   ],
   "source": [
    "model_2=RandomForestClassifier(n_estimators=10)\n",
    "scores = cross_val_score(model_2, x, y, cv=StratifiedKFold(shuffle=True, n_splits=5), scoring='precision') \n",
    "print(scores) \n",
    "print(np.mean(scores))\n",
    "print(np.std(scores))"
   ]
  },
  {
   "cell_type": "code",
   "execution_count": 39,
   "metadata": {},
   "outputs": [
    {
     "name": "stdout",
     "output_type": "stream",
     "text": [
      "[0.82 0.8  0.82 0.81 0.81]\n",
      "0.8125196130335846\n",
      "0.00807706186453969\n"
     ]
    }
   ],
   "source": [
    "model_2=RandomForestClassifier(n_estimators=20)\n",
    "scores = cross_val_score(model_2, x, y, cv=StratifiedKFold(shuffle=True, n_splits=5)) \n",
    "print(scores) \n",
    "print(np.mean(scores))\n",
    "print(np.std(scores))"
   ]
  },
  {
   "cell_type": "code",
   "execution_count": 57,
   "metadata": {},
   "outputs": [
    {
     "name": "stdout",
     "output_type": "stream",
     "text": [
      "[0.76 0.74 0.74 0.75 0.74]\n",
      "0.7459085768116824\n",
      "0.007833694491977407\n"
     ]
    }
   ],
   "source": [
    "model_2=RandomForestClassifier(n_estimators=20)\n",
    "scores = cross_val_score(model_2, x, y, cv=StratifiedKFold(shuffle=True, n_splits=5), scoring='precision') \n",
    "print(scores) \n",
    "print(np.mean(scores))\n",
    "print(np.std(scores))"
   ]
  },
  {
   "cell_type": "code",
   "execution_count": 40,
   "metadata": {},
   "outputs": [
    {
     "name": "stdout",
     "output_type": "stream",
     "text": [
      "[0.82 0.82 0.82 0.82 0.81]\n",
      "0.8184796130751846\n",
      "0.003378685625222902\n"
     ]
    }
   ],
   "source": [
    "model_2=RandomForestClassifier(n_estimators=50)\n",
    "scores = cross_val_score(model_2, x, y, cv=StratifiedKFold(shuffle=True, n_splits=5)) \n",
    "print(scores) \n",
    "print(np.mean(scores))\n",
    "print(np.std(scores))"
   ]
  },
  {
   "cell_type": "code",
   "execution_count": 58,
   "metadata": {},
   "outputs": [
    {
     "name": "stdout",
     "output_type": "stream",
     "text": [
      "[0.76 0.75 0.76 0.76 0.73]\n",
      "0.7532881476222321\n",
      "0.010715162064307275\n"
     ]
    }
   ],
   "source": [
    "model_2=RandomForestClassifier(n_estimators=10)\n",
    "scores = cross_val_score(model_2, x, y, cv=StratifiedKFold(shuffle=True, n_splits=5), scoring='precision') \n",
    "print(scores) \n",
    "print(np.mean(scores))\n",
    "print(np.std(scores))"
   ]
  },
  {
   "cell_type": "raw",
   "metadata": {},
   "source": [
    "I don't thinnk it's worth going beyond 50 because the 20 and 50 case scores are almost the same"
   ]
  },
  {
   "cell_type": "code",
   "execution_count": 37,
   "metadata": {},
   "outputs": [
    {
     "name": "stdout",
     "output_type": "stream",
     "text": [
      "Training scores 0.9867800000000001 +- 0.000714562803398013\n",
      "Test scores 0.80636 +- 0.002440983408382801\n"
     ]
    }
   ],
   "source": [
    "checktraintest(x,y,RandomForestClassifier(n_estimators=10))"
   ]
  },
  {
   "cell_type": "code",
   "execution_count": 35,
   "metadata": {},
   "outputs": [
    {
     "name": "stdout",
     "output_type": "stream",
     "text": [
      "Training scores 0.99604 +- 0.00043520110293976465\n",
      "Test scores 0.8124800000000001 +- 0.0032139695082561057\n"
     ]
    }
   ],
   "source": [
    "checktraintest(x,y,RandomForestClassifier(n_estimators=20))"
   ]
  },
  {
   "cell_type": "code",
   "execution_count": 29,
   "metadata": {},
   "outputs": [
    {
     "name": "stdout",
     "output_type": "stream",
     "text": [
      "Training scores 0.9997700000000002 +- 0.00010770329614267822\n",
      "Test scores 0.81792 +- 0.004351735286066921\n"
     ]
    }
   ],
   "source": [
    "checktraintest(x,y,RandomForestClassifier(n_estimators=50))"
   ]
  },
  {
   "cell_type": "markdown",
   "metadata": {},
   "source": [
    "7\\. Same as above, but change the min_sample_leaf parameter to 2, 5 and 10 and report the different scores. Also report the train/test scores using the function checktraintest. What is your preferred choice and why?"
   ]
  },
  {
   "cell_type": "code",
   "execution_count": 41,
   "metadata": {},
   "outputs": [
    {
     "name": "stderr",
     "output_type": "stream",
     "text": [
      "C:\\Users\\merye\\Anaconda3\\lib\\site-packages\\sklearn\\ensemble\\forest.py:246: FutureWarning: The default value of n_estimators will change from 10 in version 0.20 to 100 in 0.22.\n",
      "  \"10 in version 0.20 to 100 in 0.22.\", FutureWarning)\n",
      "C:\\Users\\merye\\Anaconda3\\lib\\site-packages\\sklearn\\ensemble\\forest.py:246: FutureWarning: The default value of n_estimators will change from 10 in version 0.20 to 100 in 0.22.\n",
      "  \"10 in version 0.20 to 100 in 0.22.\", FutureWarning)\n",
      "C:\\Users\\merye\\Anaconda3\\lib\\site-packages\\sklearn\\ensemble\\forest.py:246: FutureWarning: The default value of n_estimators will change from 10 in version 0.20 to 100 in 0.22.\n",
      "  \"10 in version 0.20 to 100 in 0.22.\", FutureWarning)\n",
      "C:\\Users\\merye\\Anaconda3\\lib\\site-packages\\sklearn\\ensemble\\forest.py:246: FutureWarning: The default value of n_estimators will change from 10 in version 0.20 to 100 in 0.22.\n",
      "  \"10 in version 0.20 to 100 in 0.22.\", FutureWarning)\n",
      "C:\\Users\\merye\\Anaconda3\\lib\\site-packages\\sklearn\\ensemble\\forest.py:246: FutureWarning: The default value of n_estimators will change from 10 in version 0.20 to 100 in 0.22.\n",
      "  \"10 in version 0.20 to 100 in 0.22.\", FutureWarning)\n"
     ]
    },
    {
     "name": "stdout",
     "output_type": "stream",
     "text": [
      "[0.8  0.81 0.82 0.81 0.83]\n",
      "0.8118009010256362\n",
      "0.008141043897184955\n"
     ]
    }
   ],
   "source": [
    "model_2=RandomForestClassifier(min_samples_leaf=2)\n",
    "scores = cross_val_score(model_2, x, y, cv=StratifiedKFold(shuffle=True, n_splits=5)) \n",
    "print(scores) \n",
    "print(np.mean(scores))\n",
    "print(np.std(scores))"
   ]
  },
  {
   "cell_type": "code",
   "execution_count": 60,
   "metadata": {},
   "outputs": [
    {
     "name": "stderr",
     "output_type": "stream",
     "text": [
      "C:\\Users\\merye\\Anaconda3\\lib\\site-packages\\sklearn\\ensemble\\forest.py:246: FutureWarning: The default value of n_estimators will change from 10 in version 0.20 to 100 in 0.22.\n",
      "  \"10 in version 0.20 to 100 in 0.22.\", FutureWarning)\n",
      "C:\\Users\\merye\\Anaconda3\\lib\\site-packages\\sklearn\\ensemble\\forest.py:246: FutureWarning: The default value of n_estimators will change from 10 in version 0.20 to 100 in 0.22.\n",
      "  \"10 in version 0.20 to 100 in 0.22.\", FutureWarning)\n",
      "C:\\Users\\merye\\Anaconda3\\lib\\site-packages\\sklearn\\ensemble\\forest.py:246: FutureWarning: The default value of n_estimators will change from 10 in version 0.20 to 100 in 0.22.\n",
      "  \"10 in version 0.20 to 100 in 0.22.\", FutureWarning)\n",
      "C:\\Users\\merye\\Anaconda3\\lib\\site-packages\\sklearn\\ensemble\\forest.py:246: FutureWarning: The default value of n_estimators will change from 10 in version 0.20 to 100 in 0.22.\n",
      "  \"10 in version 0.20 to 100 in 0.22.\", FutureWarning)\n",
      "C:\\Users\\merye\\Anaconda3\\lib\\site-packages\\sklearn\\ensemble\\forest.py:246: FutureWarning: The default value of n_estimators will change from 10 in version 0.20 to 100 in 0.22.\n",
      "  \"10 in version 0.20 to 100 in 0.22.\", FutureWarning)\n"
     ]
    },
    {
     "name": "stdout",
     "output_type": "stream",
     "text": [
      "[0.74 0.74 0.73 0.75 0.74]\n",
      "0.7410581227553791\n",
      "0.006649657437737676\n"
     ]
    }
   ],
   "source": [
    "model_2=RandomForestClassifier(min_samples_leaf=2)\n",
    "scores = cross_val_score(model_2, x, y, cv=StratifiedKFold(shuffle=True, n_splits=5), scoring='precision') \n",
    "print(scores) \n",
    "print(np.mean(scores))\n",
    "print(np.std(scores))"
   ]
  },
  {
   "cell_type": "code",
   "execution_count": 44,
   "metadata": {},
   "outputs": [
    {
     "name": "stderr",
     "output_type": "stream",
     "text": [
      "C:\\Users\\merye\\Anaconda3\\lib\\site-packages\\sklearn\\ensemble\\forest.py:246: FutureWarning: The default value of n_estimators will change from 10 in version 0.20 to 100 in 0.22.\n",
      "  \"10 in version 0.20 to 100 in 0.22.\", FutureWarning)\n"
     ]
    },
    {
     "name": "stdout",
     "output_type": "stream",
     "text": [
      "Training scores 0.9621300000000002 +- 0.00047180504448341353\n",
      "Test scores 0.8100000000000002 +- 0.004445222154178593\n"
     ]
    }
   ],
   "source": [
    "checktraintest(x,y,RandomForestClassifier(min_samples_leaf= 2))"
   ]
  },
  {
   "cell_type": "code",
   "execution_count": 45,
   "metadata": {},
   "outputs": [
    {
     "name": "stderr",
     "output_type": "stream",
     "text": [
      "C:\\Users\\merye\\Anaconda3\\lib\\site-packages\\sklearn\\ensemble\\forest.py:246: FutureWarning: The default value of n_estimators will change from 10 in version 0.20 to 100 in 0.22.\n",
      "  \"10 in version 0.20 to 100 in 0.22.\", FutureWarning)\n",
      "C:\\Users\\merye\\Anaconda3\\lib\\site-packages\\sklearn\\ensemble\\forest.py:246: FutureWarning: The default value of n_estimators will change from 10 in version 0.20 to 100 in 0.22.\n",
      "  \"10 in version 0.20 to 100 in 0.22.\", FutureWarning)\n",
      "C:\\Users\\merye\\Anaconda3\\lib\\site-packages\\sklearn\\ensemble\\forest.py:246: FutureWarning: The default value of n_estimators will change from 10 in version 0.20 to 100 in 0.22.\n",
      "  \"10 in version 0.20 to 100 in 0.22.\", FutureWarning)\n",
      "C:\\Users\\merye\\Anaconda3\\lib\\site-packages\\sklearn\\ensemble\\forest.py:246: FutureWarning: The default value of n_estimators will change from 10 in version 0.20 to 100 in 0.22.\n",
      "  \"10 in version 0.20 to 100 in 0.22.\", FutureWarning)\n",
      "C:\\Users\\merye\\Anaconda3\\lib\\site-packages\\sklearn\\ensemble\\forest.py:246: FutureWarning: The default value of n_estimators will change from 10 in version 0.20 to 100 in 0.22.\n",
      "  \"10 in version 0.20 to 100 in 0.22.\", FutureWarning)\n"
     ]
    },
    {
     "name": "stdout",
     "output_type": "stream",
     "text": [
      "[0.81 0.81 0.82 0.81 0.82]\n",
      "0.8153606290576251\n",
      "0.00586919288188612\n"
     ]
    }
   ],
   "source": [
    "model_2=RandomForestClassifier(min_samples_leaf=5)\n",
    "scores = cross_val_score(model_2, x, y, cv=StratifiedKFold(shuffle=True, n_splits=5)) \n",
    "print(scores) \n",
    "print(np.mean(scores))\n",
    "print(np.std(scores))"
   ]
  },
  {
   "cell_type": "code",
   "execution_count": 61,
   "metadata": {},
   "outputs": [
    {
     "name": "stderr",
     "output_type": "stream",
     "text": [
      "C:\\Users\\merye\\Anaconda3\\lib\\site-packages\\sklearn\\ensemble\\forest.py:246: FutureWarning: The default value of n_estimators will change from 10 in version 0.20 to 100 in 0.22.\n",
      "  \"10 in version 0.20 to 100 in 0.22.\", FutureWarning)\n",
      "C:\\Users\\merye\\Anaconda3\\lib\\site-packages\\sklearn\\ensemble\\forest.py:246: FutureWarning: The default value of n_estimators will change from 10 in version 0.20 to 100 in 0.22.\n",
      "  \"10 in version 0.20 to 100 in 0.22.\", FutureWarning)\n",
      "C:\\Users\\merye\\Anaconda3\\lib\\site-packages\\sklearn\\ensemble\\forest.py:246: FutureWarning: The default value of n_estimators will change from 10 in version 0.20 to 100 in 0.22.\n",
      "  \"10 in version 0.20 to 100 in 0.22.\", FutureWarning)\n",
      "C:\\Users\\merye\\Anaconda3\\lib\\site-packages\\sklearn\\ensemble\\forest.py:246: FutureWarning: The default value of n_estimators will change from 10 in version 0.20 to 100 in 0.22.\n",
      "  \"10 in version 0.20 to 100 in 0.22.\", FutureWarning)\n",
      "C:\\Users\\merye\\Anaconda3\\lib\\site-packages\\sklearn\\ensemble\\forest.py:246: FutureWarning: The default value of n_estimators will change from 10 in version 0.20 to 100 in 0.22.\n",
      "  \"10 in version 0.20 to 100 in 0.22.\", FutureWarning)\n"
     ]
    },
    {
     "name": "stdout",
     "output_type": "stream",
     "text": [
      "[0.76 0.76 0.75 0.74 0.75]\n",
      "0.7510230491485457\n",
      "0.007221138770306842\n"
     ]
    }
   ],
   "source": [
    "model_2=RandomForestClassifier(min_samples_leaf=5)\n",
    "scores = cross_val_score(model_2, x, y, cv=StratifiedKFold(shuffle=True, n_splits=5), scoring='precision') \n",
    "print(scores) \n",
    "print(np.mean(scores))\n",
    "print(np.std(scores))"
   ]
  },
  {
   "cell_type": "code",
   "execution_count": 46,
   "metadata": {},
   "outputs": [
    {
     "name": "stderr",
     "output_type": "stream",
     "text": [
      "C:\\Users\\merye\\Anaconda3\\lib\\site-packages\\sklearn\\ensemble\\forest.py:246: FutureWarning: The default value of n_estimators will change from 10 in version 0.20 to 100 in 0.22.\n",
      "  \"10 in version 0.20 to 100 in 0.22.\", FutureWarning)\n"
     ]
    },
    {
     "name": "stdout",
     "output_type": "stream",
     "text": [
      "Training scores 0.9043199999999999 +- 0.002116034026191427\n",
      "Test scores 0.81684 +- 0.001790642342847957\n"
     ]
    }
   ],
   "source": [
    "checktraintest(x,y,RandomForestClassifier(min_samples_leaf= 5))"
   ]
  },
  {
   "cell_type": "code",
   "execution_count": 63,
   "metadata": {},
   "outputs": [
    {
     "name": "stderr",
     "output_type": "stream",
     "text": [
      "C:\\Users\\merye\\Anaconda3\\lib\\site-packages\\sklearn\\ensemble\\forest.py:246: FutureWarning: The default value of n_estimators will change from 10 in version 0.20 to 100 in 0.22.\n",
      "  \"10 in version 0.20 to 100 in 0.22.\", FutureWarning)\n",
      "C:\\Users\\merye\\Anaconda3\\lib\\site-packages\\sklearn\\ensemble\\forest.py:246: FutureWarning: The default value of n_estimators will change from 10 in version 0.20 to 100 in 0.22.\n",
      "  \"10 in version 0.20 to 100 in 0.22.\", FutureWarning)\n",
      "C:\\Users\\merye\\Anaconda3\\lib\\site-packages\\sklearn\\ensemble\\forest.py:246: FutureWarning: The default value of n_estimators will change from 10 in version 0.20 to 100 in 0.22.\n",
      "  \"10 in version 0.20 to 100 in 0.22.\", FutureWarning)\n",
      "C:\\Users\\merye\\Anaconda3\\lib\\site-packages\\sklearn\\ensemble\\forest.py:246: FutureWarning: The default value of n_estimators will change from 10 in version 0.20 to 100 in 0.22.\n",
      "  \"10 in version 0.20 to 100 in 0.22.\", FutureWarning)\n",
      "C:\\Users\\merye\\Anaconda3\\lib\\site-packages\\sklearn\\ensemble\\forest.py:246: FutureWarning: The default value of n_estimators will change from 10 in version 0.20 to 100 in 0.22.\n",
      "  \"10 in version 0.20 to 100 in 0.22.\", FutureWarning)\n"
     ]
    },
    {
     "name": "stdout",
     "output_type": "stream",
     "text": [
      "[0.82 0.82 0.82 0.82 0.82]\n",
      "0.8190798211231929\n",
      "0.0017415528624110067\n"
     ]
    }
   ],
   "source": [
    "model_2=RandomForestClassifier(min_samples_leaf=10)\n",
    "scores = cross_val_score(model_2, x, y, cv=StratifiedKFold(shuffle=True, n_splits=5)) \n",
    "print(scores) \n",
    "print(np.mean(scores))\n",
    "print(np.std(scores))"
   ]
  },
  {
   "cell_type": "code",
   "execution_count": 62,
   "metadata": {},
   "outputs": [
    {
     "name": "stderr",
     "output_type": "stream",
     "text": [
      "C:\\Users\\merye\\Anaconda3\\lib\\site-packages\\sklearn\\ensemble\\forest.py:246: FutureWarning: The default value of n_estimators will change from 10 in version 0.20 to 100 in 0.22.\n",
      "  \"10 in version 0.20 to 100 in 0.22.\", FutureWarning)\n",
      "C:\\Users\\merye\\Anaconda3\\lib\\site-packages\\sklearn\\ensemble\\forest.py:246: FutureWarning: The default value of n_estimators will change from 10 in version 0.20 to 100 in 0.22.\n",
      "  \"10 in version 0.20 to 100 in 0.22.\", FutureWarning)\n",
      "C:\\Users\\merye\\Anaconda3\\lib\\site-packages\\sklearn\\ensemble\\forest.py:246: FutureWarning: The default value of n_estimators will change from 10 in version 0.20 to 100 in 0.22.\n",
      "  \"10 in version 0.20 to 100 in 0.22.\", FutureWarning)\n",
      "C:\\Users\\merye\\Anaconda3\\lib\\site-packages\\sklearn\\ensemble\\forest.py:246: FutureWarning: The default value of n_estimators will change from 10 in version 0.20 to 100 in 0.22.\n",
      "  \"10 in version 0.20 to 100 in 0.22.\", FutureWarning)\n",
      "C:\\Users\\merye\\Anaconda3\\lib\\site-packages\\sklearn\\ensemble\\forest.py:246: FutureWarning: The default value of n_estimators will change from 10 in version 0.20 to 100 in 0.22.\n",
      "  \"10 in version 0.20 to 100 in 0.22.\", FutureWarning)\n"
     ]
    },
    {
     "name": "stdout",
     "output_type": "stream",
     "text": [
      "[0.74 0.75 0.74 0.76 0.77]\n",
      "0.7529325972515621\n",
      "0.011375225455553542\n"
     ]
    }
   ],
   "source": [
    "model_2=RandomForestClassifier(min_samples_leaf=10)\n",
    "scores = cross_val_score(model_2, x, y, cv=StratifiedKFold(shuffle=True, n_splits=5), scoring='precision') \n",
    "print(scores) \n",
    "print(np.mean(scores))\n",
    "print(np.std(scores))"
   ]
  },
  {
   "cell_type": "code",
   "execution_count": 47,
   "metadata": {},
   "outputs": [
    {
     "name": "stderr",
     "output_type": "stream",
     "text": [
      "C:\\Users\\merye\\Anaconda3\\lib\\site-packages\\sklearn\\ensemble\\forest.py:246: FutureWarning: The default value of n_estimators will change from 10 in version 0.20 to 100 in 0.22.\n",
      "  \"10 in version 0.20 to 100 in 0.22.\", FutureWarning)\n"
     ]
    },
    {
     "name": "stdout",
     "output_type": "stream",
     "text": [
      "Training scores 0.87242 +- 0.0011643023662262506\n",
      "Test scores 0.8184800000000001 +- 0.001047664068296717\n"
     ]
    }
   ],
   "source": [
    "checktraintest(x,y,RandomForestClassifier(min_samples_leaf= 10))"
   ]
  },
  {
   "cell_type": "raw",
   "metadata": {},
   "source": [
    "I would choose the min_samples_leaf to be equal to 10 because (even that the scores are not very hight) the training scores and the test scores are closer to each other compared to 2 and 5."
   ]
  },
  {
   "cell_type": "markdown",
   "metadata": {},
   "source": [
    "8\\. Set up and run a nested cross validation for the Random Forest with 5 outer folds and 3 inner folds. Your GridSearch CV will have the following parameters: \n",
    "\n",
    "parameters = {'n_estimators':[5,10,20],'min_samples_leaf':[1, 2, 5], 'min_samples_split':[2, 5, 10], 'max_features':[3,6,8]}\n",
    "\n",
    "You can use the last example (\"putting them all together\") from the SVMs and Hyperparameter fitting notebook, or recycle what you did for WS4, but remember to change the scoring parameter to precision. \n",
    "#### Note that we are not making the data set smaller here!\n",
    "\n",
    "Set n_jobs = 4 (or higher if your machine can handle it) to make sure it doesn't take forever,  and et verbose to 2 if you want to follow the progress.\n",
    "\n",
    "#### Report the scores and parameters values of the best model.\n",
    "\n",
    "Note: If timings are bad and this takes forever on your machine, select 20% of the original data set."
   ]
  },
  {
   "cell_type": "code",
   "execution_count": 51,
   "metadata": {},
   "outputs": [
    {
     "data": {
      "text/plain": [
       "(1684, 3316)"
      ]
     },
     "execution_count": 51,
     "metadata": {},
     "output_type": "execute_result"
    }
   ],
   "source": [
    "number_samples = x.shape[0]\n",
    "Xlittle, ylittle = x[:int(number_samples*0.2),:], y[:int(number_samples*0.2)]\n",
    "np.sum(ylittle > 0.5), np.sum(ylittle < 0.5)"
   ]
  },
  {
   "cell_type": "code",
   "execution_count": 55,
   "metadata": {},
   "outputs": [
    {
     "name": "stdout",
     "output_type": "stream",
     "text": [
      "Fold  1 outer cross validation\n",
      "Fitting 3 folds for each of 81 candidates, totalling 243 fits\n"
     ]
    },
    {
     "name": "stderr",
     "output_type": "stream",
     "text": [
      "[Parallel(n_jobs=8)]: Using backend LokyBackend with 8 concurrent workers.\n",
      "[Parallel(n_jobs=8)]: Done  34 tasks      | elapsed:    8.6s\n",
      "[Parallel(n_jobs=8)]: Done 184 tasks      | elapsed:   20.2s\n",
      "[Parallel(n_jobs=8)]: Done 243 out of 243 | elapsed:   26.3s finished\n"
     ]
    },
    {
     "name": "stdout",
     "output_type": "stream",
     "text": [
      "Best params, best score: 0.7493 {'max_features': 6, 'min_samples_leaf': 1, 'min_samples_split': 2, 'n_estimators': 20}\n",
      "Time per model (s): 0.0832\n",
      "Fold  2 outer cross validation\n",
      "Fitting 3 folds for each of 81 candidates, totalling 243 fits\n"
     ]
    },
    {
     "name": "stderr",
     "output_type": "stream",
     "text": [
      "[Parallel(n_jobs=8)]: Using backend LokyBackend with 8 concurrent workers.\n",
      "[Parallel(n_jobs=8)]: Done  34 tasks      | elapsed:    1.9s\n",
      "[Parallel(n_jobs=8)]: Done 184 tasks      | elapsed:   13.6s\n",
      "[Parallel(n_jobs=8)]: Done 243 out of 243 | elapsed:   19.8s finished\n"
     ]
    },
    {
     "name": "stdout",
     "output_type": "stream",
     "text": [
      "Best params, best score: 0.7440 {'max_features': 3, 'min_samples_leaf': 5, 'min_samples_split': 5, 'n_estimators': 20}\n",
      "Time per model (s): 0.0624\n",
      "Fold  3 outer cross validation\n",
      "Fitting 3 folds for each of 81 candidates, totalling 243 fits\n"
     ]
    },
    {
     "name": "stderr",
     "output_type": "stream",
     "text": [
      "[Parallel(n_jobs=8)]: Using backend LokyBackend with 8 concurrent workers.\n",
      "[Parallel(n_jobs=8)]: Done  52 tasks      | elapsed:    2.8s\n",
      "[Parallel(n_jobs=8)]: Done 243 out of 243 | elapsed:   19.3s finished\n"
     ]
    },
    {
     "name": "stdout",
     "output_type": "stream",
     "text": [
      "Best params, best score: 0.7460 {'max_features': 6, 'min_samples_leaf': 1, 'min_samples_split': 2, 'n_estimators': 20}\n",
      "Time per model (s): 0.0616\n",
      "Fold  4 outer cross validation\n",
      "Fitting 3 folds for each of 81 candidates, totalling 243 fits\n"
     ]
    },
    {
     "name": "stderr",
     "output_type": "stream",
     "text": [
      "[Parallel(n_jobs=8)]: Using backend LokyBackend with 8 concurrent workers.\n",
      "[Parallel(n_jobs=8)]: Done  52 tasks      | elapsed:    2.9s\n",
      "[Parallel(n_jobs=8)]: Done 243 out of 243 | elapsed:   21.7s finished\n"
     ]
    },
    {
     "name": "stdout",
     "output_type": "stream",
     "text": [
      "Best params, best score: 0.7470 {'max_features': 3, 'min_samples_leaf': 1, 'min_samples_split': 2, 'n_estimators': 10}\n",
      "Time per model (s): 0.0679\n",
      "Fold  5 outer cross validation\n",
      "Fitting 3 folds for each of 81 candidates, totalling 243 fits\n"
     ]
    },
    {
     "name": "stderr",
     "output_type": "stream",
     "text": [
      "[Parallel(n_jobs=8)]: Using backend LokyBackend with 8 concurrent workers.\n",
      "[Parallel(n_jobs=8)]: Done  52 tasks      | elapsed:    3.1s\n",
      "[Parallel(n_jobs=8)]: Done 243 out of 243 | elapsed:   20.2s finished\n"
     ]
    },
    {
     "name": "stdout",
     "output_type": "stream",
     "text": [
      "Best params, best score: 0.7439 {'max_features': 3, 'min_samples_leaf': 5, 'min_samples_split': 5, 'n_estimators': 20}\n",
      "Time per model (s): 0.0640\n",
      "The average of the winning model scores (i.e. the generalization error) is 0.6443178606754275 0.040856494435626035\n"
     ]
    }
   ],
   "source": [
    "from sklearn.model_selection import GridSearchCV\n",
    "import time\n",
    "outercv = StratifiedKFold(n_splits=5, shuffle=True) #creates 5 disjoint splits\n",
    "\n",
    "innercv = StratifiedKFold(n_splits=3, shuffle=True) #creates 4 disjoint splits\n",
    "\n",
    "i=0\n",
    "\n",
    "winning_model_scores = []\n",
    "\n",
    "for train_index, test_index in outercv.split(Xlittle,ylittle): #This runs the outer cross validation\n",
    "    \n",
    "    i+=1\n",
    "    \n",
    "    print('Fold ' ,i, 'outer cross validation')\n",
    "    \n",
    "    Xlittle_train = Xlittle[train_index] #\"yellow\" training set\n",
    "    ylittle_train = ylittle[train_index]\n",
    "    \n",
    "    Xlittle_test = Xlittle[test_index]\n",
    "    ylittle_test = ylittle[test_index]\n",
    "    \n",
    "    #optimizing SVC: this replaces the inner loop!\n",
    "    \n",
    "    parameters = {'n_estimators':[5,10,20],'min_samples_leaf':[1, 2, 5], 'min_samples_split':[2, 5, 10], 'max_features':[3,6,8]}\n",
    "    nmodels = np.product([len(el) for el in parameters.values()])\n",
    "    start = time.time()\n",
    "    model = GridSearchCV(RandomForestClassifier(), parameters, cv = innercv, scoring = 'precision', \\\n",
    "                     verbose = 1, n_jobs = 8)\n",
    "    model.fit(Xlittle_train, ylittle_train)\n",
    "    stop = time.time()\n",
    "    print('Best params, best score:', \"{:.4f}\".format(model.best_score_), model.best_params_)\n",
    "    print('Time per model (s):', \"{:.4f}\".format((stop-start)/float(nmodels*4)))\n",
    "\n",
    "    #Compute test scores with optimal parameters on outer i-th test fold\n",
    "    \n",
    "    winner = model.best_estimator_\n",
    "    \n",
    "    winner.fit(Xlittle_train, ylittle_train)\n",
    "    \n",
    "    ypred = winner.predict(Xlittle_test)\n",
    "    \n",
    "    winning_model_scores.append(metrics.recall_score(ylittle_test,ypred)) #append this to the outer cv results\n",
    "    \n",
    "print('The average of the winning model scores (i.e. the generalization error) is', \\\n",
    "      np.mean(winning_model_scores), np.std(winning_model_scores) )\n"
   ]
  },
  {
   "cell_type": "markdown",
   "metadata": {},
   "source": [
    "9\\. Fix the parameters at optimal values and run the 5 fold cross validation on the original data set. What are the scores? How big is the improvement with parameter optimization, compared with the performance obtained with standard parameters in question 1?"
   ]
  },
  {
   "cell_type": "code",
   "execution_count": 65,
   "metadata": {},
   "outputs": [
    {
     "name": "stdout",
     "output_type": "stream",
     "text": [
      "[0.75 0.74 0.73 0.77 0.73]\n",
      "0.7438016985011406\n",
      "0.014940021454261562\n"
     ]
    }
   ],
   "source": [
    "model_2=RandomForestClassifier(max_features= 6, min_samples_leaf= 1, min_samples_split= 2, n_estimators= 20)\n",
    "scores = cross_val_score(model_2, x, y, cv=StratifiedKFold(shuffle=True, n_splits=5), scoring='precision') \n",
    "print(scores) \n",
    "print(np.mean(scores))\n",
    "print(np.std(scores))"
   ]
  },
  {
   "cell_type": "code",
   "execution_count": 66,
   "metadata": {},
   "outputs": [
    {
     "name": "stdout",
     "output_type": "stream",
     "text": [
      "[0.81 0.81 0.81 0.82 0.81]\n",
      "0.8126402049952082\n",
      "0.0040920238731960825\n"
     ]
    }
   ],
   "source": [
    "model_2=RandomForestClassifier(max_features= 6, min_samples_leaf= 1, min_samples_split= 2, n_estimators= 20)\n",
    "scores = cross_val_score(model_2, x, y, cv=StratifiedKFold(shuffle=True, n_splits=5)) \n",
    "print(scores) \n",
    "print(np.mean(scores))\n",
    "print(np.std(scores))"
   ]
  },
  {
   "cell_type": "raw",
   "metadata": {},
   "source": [
    "The scores are almost the same, so I don't see a big improvement"
   ]
  },
  {
   "cell_type": "markdown",
   "metadata": {},
   "source": [
    "10\\. Report and plot the feature importance for this data set (use the example from the lecture notebook). "
   ]
  },
  {
   "cell_type": "code",
   "execution_count": 71,
   "metadata": {},
   "outputs": [
    {
     "data": {
      "text/plain": [
       "array([0.27, 0.18, 0.12, 0.1 , 0.07, 0.08, 0.1 , 0.08])"
      ]
     },
     "execution_count": 71,
     "metadata": {},
     "output_type": "execute_result"
    }
   ],
   "source": [
    "model_2.fit(x,y)\n",
    "model_2.feature_importances_"
   ]
  },
  {
   "cell_type": "code",
   "execution_count": 72,
   "metadata": {},
   "outputs": [
    {
     "name": "stdout",
     "output_type": "stream",
     "text": [
      "Feature ranking:\n",
      "1. feature 0 (0.273368)\n",
      "2. feature 1 (0.176972)\n",
      "3. feature 2 (0.120831)\n",
      "4. feature 6 (0.102322)\n",
      "5. feature 3 (0.098133)\n",
      "6. feature 5 (0.079529)\n",
      "7. feature 7 (0.075117)\n",
      "8. feature 4 (0.073728)\n"
     ]
    },
    {
     "data": {
      "image/png": "[encoded data removed]",
      "text/plain": [
       "<Figure size 1152x432 with 1 Axes>"
      ]
     },
     "metadata": {
      "needs_background": "light"
     },
     "output_type": "display_data"
    }
   ],
   "source": [
    "importances = model_2.feature_importances_\n",
    "indices = np.argsort(importances)[::-1]\n",
    "features=x\n",
    "labels=y\n",
    "# Print the feature ranking\n",
    "print(\"Feature ranking:\")\n",
    "\n",
    "for f in range(features.shape[1]):\n",
    "    print(\"%d. feature %d (%f)\" % (f + 1, indices[f], importances[indices[f]]))\n",
    "\n",
    "# Plot the feature importances of the forest\n",
    "plt.figure(figsize=(16,6))\n",
    "plt.title(\"Feature importances\")\n",
    "plt.bar(range(features.shape[1]), importances[indices],\n",
    "       color=\"b\", align=\"center\")\n",
    "plt.xticks(range(features.shape[1]), indices)\n",
    "plt.xlim([-1, features.shape[1]])\n",
    "plt.show()"
   ]
  },
  {
   "cell_type": "markdown",
   "metadata": {},
   "source": [
    "11\\. Repeat the simple 5 fold cross validation with default parameters for Extremely Random Trees. Which model is better out of the box, RF or ERT?"
   ]
  },
  {
   "cell_type": "code",
   "execution_count": 74,
   "metadata": {},
   "outputs": [
    {
     "name": "stdout",
     "output_type": "stream",
     "text": [
      "[0.74 0.74 0.75 0.75 0.76]\n",
      "0.7480215582170302\n",
      "0.007826351305772064\n"
     ]
    }
   ],
   "source": [
    "model_3= ExtraTreesClassifier()\n",
    "scores = cross_val_score(model_2, x, y, cv=StratifiedKFold(shuffle=True, n_splits=5),scoring='precision') \n",
    "print(scores) \n",
    "print(np.mean(scores))\n",
    "print(np.std(scores))"
   ]
  },
  {
   "cell_type": "markdown",
   "metadata": {},
   "source": [
    "12\\. Report the train/test scores for RFs and ERTs. Which model has the lowest gap between train and test scores, out of the box?"
   ]
  },
  {
   "cell_type": "code",
   "execution_count": 75,
   "metadata": {},
   "outputs": [
    {
     "name": "stderr",
     "output_type": "stream",
     "text": [
      "C:\\Users\\merye\\Anaconda3\\lib\\site-packages\\sklearn\\ensemble\\forest.py:246: FutureWarning: The default value of n_estimators will change from 10 in version 0.20 to 100 in 0.22.\n",
      "  \"10 in version 0.20 to 100 in 0.22.\", FutureWarning)\n"
     ]
    },
    {
     "name": "stdout",
     "output_type": "stream",
     "text": [
      "Training scores 0.9860299999999999 +- 0.0007915806970865122\n",
      "Test scores 0.80404 +- 0.00298636903278884\n"
     ]
    }
   ],
   "source": [
    "checktraintest(x,y,RandomForestClassifier())"
   ]
  },
  {
   "cell_type": "code",
   "execution_count": 77,
   "metadata": {},
   "outputs": [
    {
     "name": "stderr",
     "output_type": "stream",
     "text": [
      "C:\\Users\\merye\\Anaconda3\\lib\\site-packages\\sklearn\\ensemble\\forest.py:246: FutureWarning: The default value of n_estimators will change from 10 in version 0.20 to 100 in 0.22.\n",
      "  \"10 in version 0.20 to 100 in 0.22.\", FutureWarning)\n"
     ]
    },
    {
     "name": "stdout",
     "output_type": "stream",
     "text": [
      "Training scores 1.0 +- 0.0\n",
      "Test scores 0.79964 +- 0.0013410443691391977\n"
     ]
    }
   ],
   "source": [
    "checktraintest(x,y,ExtraTreesClassifier())"
   ]
  },
  {
   "cell_type": "raw",
   "metadata": {},
   "source": [
    "The random tree classifier has the lowest gap between the training score and the test score"
   ]
  },
  {
   "cell_type": "markdown",
   "metadata": {},
   "source": [
    "EC: On the basis of what you obtained in 10, select a threshold for the feature importance to obtain only 5 features and re-run the RF with optimal parameters on the smaller data set (again follow the example in the lecture notebook). How much does performance worsen? Would you recommend using the larger or smaller data set?"
   ]
  },
  {
   "cell_type": "code",
   "execution_count": 85,
   "metadata": {},
   "outputs": [
    {
     "name": "stdout",
     "output_type": "stream",
     "text": [
      "(25000, 5)\n"
     ]
    }
   ],
   "source": [
    "from sklearn.feature_selection import SelectFromModel\n",
    "featuresel = SelectFromModel(model_2,threshold=0.09,prefit=True)\n",
    "features_new = featuresel.transform(features) #note: only features are transformed\n",
    "print(features_new.shape)"
   ]
  },
  {
   "cell_type": "code",
   "execution_count": 86,
   "metadata": {},
   "outputs": [
    {
     "name": "stdout",
     "output_type": "stream",
     "text": [
      "Training scores 0.99573 +- 0.0006801470429252867\n",
      "Test scores 0.81044 +- 0.0019365949499056561\n"
     ]
    }
   ],
   "source": [
    "checktraintest(features,labels,RandomForestClassifier(max_features= 6, min_samples_leaf= 1, min_samples_split= 2, n_estimators= 20))"
   ]
  },
  {
   "cell_type": "code",
   "execution_count": 88,
   "metadata": {},
   "outputs": [
    {
     "name": "stdout",
     "output_type": "stream",
     "text": [
      "Training scores 0.9063699999999999 +- 0.0012106196760337268\n",
      "Test scores 0.8118400000000001 +- 0.0032800000000000056\n"
     ]
    }
   ],
   "source": [
    "checktraintest(features_new,labels,RandomForestClassifier(n_estimators=20,min_samples_leaf=5))"
   ]
  },
  {
   "cell_type": "raw",
   "metadata": {},
   "source": [
    "The test score didn't drope in the smaller data set case; but the training score did, which I think it's fine because it reduces the gap between the training and the score test. I would go with the smaller data set because i don't see a big different between the larger and smaller."
   ]
  }
 ],
 "metadata": {
  "kernelspec": {
   "display_name": "Python 3",
   "language": "python",
   "name": "python3"
  },
  "language_info": {
   "codemirror_mode": {
    "name": "ipython",
    "version": 3
   },
   "file_extension": ".py",
   "mimetype": "text/x-python",
   "name": "python",
   "nbconvert_exporter": "python",
   "pygments_lexer": "ipython3",
   "version": "3.7.1"
  }
 },
 "nbformat": 4,
 "nbformat_minor": 2
}
