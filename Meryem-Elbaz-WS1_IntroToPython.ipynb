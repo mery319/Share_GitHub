{
 "cells": [
  {
   "cell_type": "markdown",
   "metadata": {},
   "source": [
    "### Worksheet 1"
   ]
  },
  {
   "cell_type": "markdown",
   "metadata": {},
   "source": [
    "#### Please upload to Blackboard the .ipynb file, containing your last name.\n",
    "\n",
    "Meryem El baz"
   ]
  },
  {
   "cell_type": "markdown",
   "metadata": {},
   "source": [
    "#### Original work statement: \n",
    "\n",
    "Please write your name here to indicate that your worksheet is the result of your own work, and you have not copied from sources without citing them (this is plagiarism and is not acceptable). Identical or very similar worksheet will share the credit.\n",
    "\n",
    "#### Your name: "
   ]
  },
  {
   "cell_type": "markdown",
   "metadata": {},
   "source": [
    "1\\. Form the following 2-D array, without typing it in explicitly: (hint: use .reshape)\n",
    "\n",
    "array<br>\n",
    "       ([[ 1,  3,  5], <br>\n",
    "       [ 7,  9, 11], <br>\n",
    "       [13, 15, 17], <br>\n",
    "       [19, 21, 23], <br>\n",
    "       [25, 27, 29]]) "
   ]
  },
  {
   "cell_type": "code",
   "execution_count": 1,
   "metadata": {},
   "outputs": [],
   "source": [
    "import numpy as np"
   ]
  },
  {
   "cell_type": "code",
   "execution_count": 2,
   "metadata": {},
   "outputs": [
    {
     "data": {
      "text/plain": [
       "array([[ 0,  1,  2,  3,  4,  5],\n",
       "       [ 6,  7,  8,  9, 10, 11],\n",
       "       [12, 13, 14, 15, 16, 17],\n",
       "       [18, 19, 20, 21, 22, 23],\n",
       "       [24, 25, 26, 27, 28, 29]])"
      ]
     },
     "execution_count": 2,
     "metadata": {},
     "output_type": "execute_result"
    }
   ],
   "source": [
    "A=np.arange(30).reshape(5,6)\n",
    "A"
   ]
  },
  {
   "cell_type": "code",
   "execution_count": 3,
   "metadata": {},
   "outputs": [
    {
     "data": {
      "text/plain": [
       "array([[ 1,  3,  5],\n",
       "       [ 7,  9, 11],\n",
       "       [13, 15, 17],\n",
       "       [19, 21, 23],\n",
       "       [25, 27, 29]])"
      ]
     },
     "execution_count": 3,
     "metadata": {},
     "output_type": "execute_result"
    }
   ],
   "source": [
    "B=A[:,[1,3,5]]\n",
    "B"
   ]
  },
  {
   "cell_type": "markdown",
   "metadata": {},
   "source": [
    "2\\. Form a new array that contains the first two rows and columns of the one above."
   ]
  },
  {
   "cell_type": "code",
   "execution_count": 4,
   "metadata": {},
   "outputs": [
    {
     "data": {
      "text/plain": [
       "array([[ 1,  3,  5],\n",
       "       [ 7,  9, 11]])"
      ]
     },
     "execution_count": 4,
     "metadata": {},
     "output_type": "execute_result"
    }
   ],
   "source": [
    "B[[0,1],:]"
   ]
  },
  {
   "cell_type": "markdown",
   "metadata": {},
   "source": [
    "3\\. Create a numpy array that contains the 26 letters of the alphabet, without typing. Hint: you can obtain a string with all the letters by using string, the text manipulation module, and typing:\n",
    "\n",
    "import string \n",
    "\n",
    "x = string.ascii_lowercase"
   ]
  },
  {
   "cell_type": "code",
   "execution_count": 5,
   "metadata": {},
   "outputs": [],
   "source": [
    "import string"
   ]
  },
  {
   "cell_type": "code",
   "execution_count": 6,
   "metadata": {},
   "outputs": [
    {
     "data": {
      "text/plain": [
       "array(['a', 'b', 'c', 'd', 'e', 'f', 'g', 'h', 'i', 'j', 'k', 'l', 'm',\n",
       "       'n', 'o', 'p', 'q', 'r', 's', 't', 'u', 'v', 'w', 'x', 'y', 'z'],\n",
       "      dtype='<U1')"
      ]
     },
     "execution_count": 6,
     "metadata": {},
     "output_type": "execute_result"
    }
   ],
   "source": [
    "x=string.ascii_lowercase\n",
    "x=list(x)\n",
    "x=np.array(x)\n",
    "x"
   ]
  },
  {
   "cell_type": "markdown",
   "metadata": {},
   "source": [
    "4\\. Create an array containing 26 random numbers between 0 and 1, filter out those that are > 0.5, and return the set of letters from the array above corresponding to those indices (in other words, apply the same mask to the array above. Bonus points if you can do it with a one liner)."
   ]
  },
  {
   "cell_type": "code",
   "execution_count": 7,
   "metadata": {},
   "outputs": [
    {
     "data": {
      "text/plain": [
       "array([0.34728054, 0.38137924, 0.42747115, 0.47618723, 0.28648046,\n",
       "       0.38085551, 0.48930912, 0.33199351, 0.90615368, 0.9881111 ,\n",
       "       0.0116476 , 0.76698375, 0.16951965, 0.83494655, 0.57841836,\n",
       "       0.03471664, 0.8504475 , 0.2717939 , 0.0351014 , 0.11832807,\n",
       "       0.2603683 , 0.20034935, 0.71171061, 0.67847261, 0.33722037,\n",
       "       0.98623847])"
      ]
     },
     "execution_count": 7,
     "metadata": {},
     "output_type": "execute_result"
    }
   ],
   "source": [
    "M=np.random.rand(26)\n",
    "M"
   ]
  },
  {
   "cell_type": "code",
   "execution_count": 8,
   "metadata": {},
   "outputs": [
    {
     "data": {
      "text/plain": [
       "array([0.34728054, 0.38137924, 0.42747115, 0.47618723, 0.28648046,\n",
       "       0.38085551, 0.48930912, 0.33199351, 0.0116476 , 0.16951965,\n",
       "       0.03471664, 0.2717939 , 0.0351014 , 0.11832807, 0.2603683 ,\n",
       "       0.20034935, 0.33722037])"
      ]
     },
     "execution_count": 8,
     "metadata": {},
     "output_type": "execute_result"
    }
   ],
   "source": [
    "M[M<=0.5]"
   ]
  },
  {
   "cell_type": "code",
   "execution_count": 9,
   "metadata": {},
   "outputs": [
    {
     "data": {
      "text/plain": [
       "array(['a', 'b', 'c', 'd', 'e', 'f', 'g', 'h', 'k', 'm', 'p', 'r', 's',\n",
       "       't', 'u', 'v', 'y'], dtype='<U1')"
      ]
     },
     "execution_count": 9,
     "metadata": {},
     "output_type": "execute_result"
    }
   ],
   "source": [
    "x[np.where(M<=0.5)]"
   ]
  },
  {
   "cell_type": "markdown",
   "metadata": {},
   "source": [
    "5\\. The code below (from the matplotlib tutorial page, https://matplotlib.org/tutorials/introductory/sample_plots.html#sphx-glr-tutorials-introductory-sample-plots-py) shows an example of how to make subplots. Add a comment after every line of code to explain what it does."
   ]
  },
  {
   "cell_type": "code",
   "execution_count": 70,
   "metadata": {},
   "outputs": [
    {
     "data": {
      "image/png": "[encoded data removed]",
      "text/plain": [
       "<Figure size 432x288 with 2 Axes>"
      ]
     },
     "metadata": {
      "needs_background": "light"
     },
     "output_type": "display_data"
    }
   ],
   "source": [
    "import numpy as np\n",
    "#import the numpy library as np\n",
    "import matplotlib.pyplot as plt\n",
    "#import the matplot library as plt\n",
    "\n",
    "\n",
    "x1 = np.linspace(0.0, 5.0)\n",
    "# specify that x line for the first plot is going to start at 0 and end at 5\n",
    "x2 = np.linspace(0.0, 2.0)\n",
    "# specify that x line for the second plot is going to start at 0 and end at 2\n",
    "y1 = np.cos(2 * np.pi * x1) * np.exp(-x1)\n",
    "# write the first function to plot\n",
    "y2 = np.cos(2 * np.pi * x2)\n",
    "# write the second function to plot\n",
    "\n",
    "plt.subplot(2, 1, 1)\n",
    "#first subploton top\n",
    "plt.plot(x1, y1, 'o-')\n",
    "#ploting the graph for y1 by using cirles (o)\n",
    "plt.title('A tale of 2 subplots')\n",
    "# to enter the title\n",
    "plt.ylabel('Damped oscillation')\n",
    "# labeling the y axis for y1\n",
    "plt.subplot(2, 1, 2)\n",
    "#second subplot on the buttom\n",
    "plt.plot(x2, y2, '.-')\n",
    "#ploting the second graph for y2 by using dots (.)\n",
    "plt.xlabel('time (s)')\n",
    "#labeling the x axis\n",
    "plt.ylabel('Undamped')\n",
    "#labeling the y axis for y2 plot\n",
    "plt.show()\n",
    "#show the two subplots"
   ]
  },
  {
   "cell_type": "markdown",
   "metadata": {},
   "source": [
    "6\\. Read into a numpy array the data set \"HIP_star.dat\". This data set contains information about stars; we are only interested in columns \"Vmag\", 'Plx', and \"B-V\", so make sure you only read those. Hint: open the file with a text editor first, to see if/how many lines you need to skip.\n",
    "\n",
    "http://astrostatistics.psu.edu/datasets/HIP_star.html\n",
    "\n",
    "\n"
   ]
  },
  {
   "cell_type": "code",
   "execution_count": 11,
   "metadata": {},
   "outputs": [],
   "source": [
    "import pandas as pd"
   ]
  },
  {
   "cell_type": "code",
   "execution_count": 17,
   "metadata": {
    "collapsed": true
   },
   "outputs": [
    {
     "data": {
      "text/html": [
       "<div>\n",
       "<style scoped>\n",
       "    .dataframe tbody tr th:only-of-type {\n",
       "        vertical-align: middle;\n",
       "    }\n",
       "\n",
       "    .dataframe tbody tr th {\n",
       "        vertical-align: top;\n",
       "    }\n",
       "\n",
       "    .dataframe thead th {\n",
       "        text-align: right;\n",
       "    }\n",
       "</style>\n",
       "<table border=\"1\" class=\"dataframe\">\n",
       "  <thead>\n",
       "    <tr style=\"text-align: right;\">\n",
       "      <th></th>\n",
       "      <th>Vmag</th>\n",
       "      <th>Plx</th>\n",
       "      <th>B-V</th>\n",
       "    </tr>\n",
       "  </thead>\n",
       "  <tbody>\n",
       "    <tr>\n",
       "      <th>0</th>\n",
       "      <td>9.27</td>\n",
       "      <td>21.90</td>\n",
       "      <td>0.999</td>\n",
       "    </tr>\n",
       "    <tr>\n",
       "      <th>1</th>\n",
       "      <td>8.65</td>\n",
       "      <td>23.84</td>\n",
       "      <td>0.778</td>\n",
       "    </tr>\n",
       "    <tr>\n",
       "      <th>2</th>\n",
       "      <td>10.78</td>\n",
       "      <td>24.45</td>\n",
       "      <td>1.150</td>\n",
       "    </tr>\n",
       "    <tr>\n",
       "      <th>3</th>\n",
       "      <td>10.57</td>\n",
       "      <td>20.97</td>\n",
       "      <td>1.030</td>\n",
       "    </tr>\n",
       "    <tr>\n",
       "      <th>4</th>\n",
       "      <td>9.93</td>\n",
       "      <td>24.22</td>\n",
       "      <td>1.068</td>\n",
       "    </tr>\n",
       "    <tr>\n",
       "      <th>5</th>\n",
       "      <td>8.57</td>\n",
       "      <td>23.43</td>\n",
       "      <td>0.642</td>\n",
       "    </tr>\n",
       "    <tr>\n",
       "      <th>6</th>\n",
       "      <td>8.61</td>\n",
       "      <td>20.42</td>\n",
       "      <td>0.787</td>\n",
       "    </tr>\n",
       "    <tr>\n",
       "      <th>7</th>\n",
       "      <td>8.64</td>\n",
       "      <td>20.10</td>\n",
       "      <td>0.620</td>\n",
       "    </tr>\n",
       "    <tr>\n",
       "      <th>8</th>\n",
       "      <td>10.35</td>\n",
       "      <td>20.05</td>\n",
       "      <td>1.033</td>\n",
       "    </tr>\n",
       "    <tr>\n",
       "      <th>9</th>\n",
       "      <td>11.26</td>\n",
       "      <td>22.92</td>\n",
       "      <td>0.932</td>\n",
       "    </tr>\n",
       "    <tr>\n",
       "      <th>10</th>\n",
       "      <td>12.43</td>\n",
       "      <td>22.98</td>\n",
       "      <td>1.490</td>\n",
       "    </tr>\n",
       "    <tr>\n",
       "      <th>11</th>\n",
       "      <td>7.17</td>\n",
       "      <td>21.58</td>\n",
       "      <td>0.617</td>\n",
       "    </tr>\n",
       "    <tr>\n",
       "      <th>12</th>\n",
       "      <td>7.66</td>\n",
       "      <td>20.44</td>\n",
       "      <td>0.741</td>\n",
       "    </tr>\n",
       "    <tr>\n",
       "      <th>13</th>\n",
       "      <td>10.37</td>\n",
       "      <td>21.14</td>\n",
       "      <td>1.100</td>\n",
       "    </tr>\n",
       "    <tr>\n",
       "      <th>14</th>\n",
       "      <td>9.80</td>\n",
       "      <td>22.52</td>\n",
       "      <td>0.855</td>\n",
       "    </tr>\n",
       "    <tr>\n",
       "      <th>15</th>\n",
       "      <td>8.13</td>\n",
       "      <td>22.09</td>\n",
       "      <td>0.710</td>\n",
       "    </tr>\n",
       "    <tr>\n",
       "      <th>16</th>\n",
       "      <td>7.53</td>\n",
       "      <td>23.90</td>\n",
       "      <td>0.577</td>\n",
       "    </tr>\n",
       "    <tr>\n",
       "      <th>17</th>\n",
       "      <td>9.13</td>\n",
       "      <td>22.20</td>\n",
       "      <td>0.735</td>\n",
       "    </tr>\n",
       "    <tr>\n",
       "      <th>18</th>\n",
       "      <td>8.22</td>\n",
       "      <td>21.03</td>\n",
       "      <td>0.636</td>\n",
       "    </tr>\n",
       "    <tr>\n",
       "      <th>19</th>\n",
       "      <td>7.51</td>\n",
       "      <td>24.85</td>\n",
       "      <td>0.595</td>\n",
       "    </tr>\n",
       "    <tr>\n",
       "      <th>20</th>\n",
       "      <td>7.06</td>\n",
       "      <td>20.63</td>\n",
       "      <td>0.463</td>\n",
       "    </tr>\n",
       "    <tr>\n",
       "      <th>21</th>\n",
       "      <td>7.82</td>\n",
       "      <td>21.83</td>\n",
       "      <td>0.610</td>\n",
       "    </tr>\n",
       "    <tr>\n",
       "      <th>22</th>\n",
       "      <td>11.65</td>\n",
       "      <td>22.50</td>\n",
       "      <td>1.260</td>\n",
       "    </tr>\n",
       "    <tr>\n",
       "      <th>23</th>\n",
       "      <td>7.78</td>\n",
       "      <td>22.07</td>\n",
       "      <td>0.680</td>\n",
       "    </tr>\n",
       "    <tr>\n",
       "      <th>24</th>\n",
       "      <td>3.88</td>\n",
       "      <td>23.28</td>\n",
       "      <td>1.013</td>\n",
       "    </tr>\n",
       "    <tr>\n",
       "      <th>25</th>\n",
       "      <td>9.53</td>\n",
       "      <td>23.86</td>\n",
       "      <td>0.965</td>\n",
       "    </tr>\n",
       "    <tr>\n",
       "      <th>26</th>\n",
       "      <td>11.55</td>\n",
       "      <td>24.32</td>\n",
       "      <td>1.395</td>\n",
       "    </tr>\n",
       "    <tr>\n",
       "      <th>27</th>\n",
       "      <td>8.97</td>\n",
       "      <td>20.86</td>\n",
       "      <td>0.807</td>\n",
       "    </tr>\n",
       "    <tr>\n",
       "      <th>28</th>\n",
       "      <td>10.03</td>\n",
       "      <td>21.87</td>\n",
       "      <td>1.293</td>\n",
       "    </tr>\n",
       "    <tr>\n",
       "      <th>29</th>\n",
       "      <td>8.61</td>\n",
       "      <td>20.55</td>\n",
       "      <td>0.643</td>\n",
       "    </tr>\n",
       "    <tr>\n",
       "      <th>...</th>\n",
       "      <td>...</td>\n",
       "      <td>...</td>\n",
       "      <td>...</td>\n",
       "    </tr>\n",
       "    <tr>\n",
       "      <th>2689</th>\n",
       "      <td>4.59</td>\n",
       "      <td>22.73</td>\n",
       "      <td>0.001</td>\n",
       "    </tr>\n",
       "    <tr>\n",
       "      <th>2690</th>\n",
       "      <td>8.93</td>\n",
       "      <td>22.40</td>\n",
       "      <td>0.753</td>\n",
       "    </tr>\n",
       "    <tr>\n",
       "      <th>2691</th>\n",
       "      <td>12.14</td>\n",
       "      <td>20.46</td>\n",
       "      <td>1.500</td>\n",
       "    </tr>\n",
       "    <tr>\n",
       "      <th>2692</th>\n",
       "      <td>8.34</td>\n",
       "      <td>20.55</td>\n",
       "      <td>0.744</td>\n",
       "    </tr>\n",
       "    <tr>\n",
       "      <th>2693</th>\n",
       "      <td>6.47</td>\n",
       "      <td>24.68</td>\n",
       "      <td>0.403</td>\n",
       "    </tr>\n",
       "    <tr>\n",
       "      <th>2694</th>\n",
       "      <td>7.62</td>\n",
       "      <td>24.45</td>\n",
       "      <td>0.764</td>\n",
       "    </tr>\n",
       "    <tr>\n",
       "      <th>2695</th>\n",
       "      <td>10.68</td>\n",
       "      <td>21.53</td>\n",
       "      <td>0.490</td>\n",
       "    </tr>\n",
       "    <tr>\n",
       "      <th>2696</th>\n",
       "      <td>9.43</td>\n",
       "      <td>20.70</td>\n",
       "      <td>0.794</td>\n",
       "    </tr>\n",
       "    <tr>\n",
       "      <th>2697</th>\n",
       "      <td>9.17</td>\n",
       "      <td>22.52</td>\n",
       "      <td>0.734</td>\n",
       "    </tr>\n",
       "    <tr>\n",
       "      <th>2698</th>\n",
       "      <td>6.52</td>\n",
       "      <td>20.07</td>\n",
       "      <td>0.571</td>\n",
       "    </tr>\n",
       "    <tr>\n",
       "      <th>2699</th>\n",
       "      <td>10.72</td>\n",
       "      <td>22.33</td>\n",
       "      <td>1.439</td>\n",
       "    </tr>\n",
       "    <tr>\n",
       "      <th>2700</th>\n",
       "      <td>10.08</td>\n",
       "      <td>21.93</td>\n",
       "      <td>0.960</td>\n",
       "    </tr>\n",
       "    <tr>\n",
       "      <th>2701</th>\n",
       "      <td>9.93</td>\n",
       "      <td>22.82</td>\n",
       "      <td>1.098</td>\n",
       "    </tr>\n",
       "    <tr>\n",
       "      <th>2702</th>\n",
       "      <td>11.84</td>\n",
       "      <td>21.06</td>\n",
       "      <td>1.358</td>\n",
       "    </tr>\n",
       "    <tr>\n",
       "      <th>2703</th>\n",
       "      <td>8.86</td>\n",
       "      <td>20.13</td>\n",
       "      <td>0.680</td>\n",
       "    </tr>\n",
       "    <tr>\n",
       "      <th>2704</th>\n",
       "      <td>7.51</td>\n",
       "      <td>23.62</td>\n",
       "      <td>1.007</td>\n",
       "    </tr>\n",
       "    <tr>\n",
       "      <th>2705</th>\n",
       "      <td>8.94</td>\n",
       "      <td>22.08</td>\n",
       "      <td>0.805</td>\n",
       "    </tr>\n",
       "    <tr>\n",
       "      <th>2706</th>\n",
       "      <td>9.23</td>\n",
       "      <td>23.50</td>\n",
       "      <td>0.861</td>\n",
       "    </tr>\n",
       "    <tr>\n",
       "      <th>2707</th>\n",
       "      <td>9.01</td>\n",
       "      <td>20.22</td>\n",
       "      <td>0.924</td>\n",
       "    </tr>\n",
       "    <tr>\n",
       "      <th>2708</th>\n",
       "      <td>9.97</td>\n",
       "      <td>20.43</td>\n",
       "      <td>0.967</td>\n",
       "    </tr>\n",
       "    <tr>\n",
       "      <th>2709</th>\n",
       "      <td>7.67</td>\n",
       "      <td>20.01</td>\n",
       "      <td>0.638</td>\n",
       "    </tr>\n",
       "    <tr>\n",
       "      <th>2710</th>\n",
       "      <td>7.89</td>\n",
       "      <td>20.98</td>\n",
       "      <td>0.643</td>\n",
       "    </tr>\n",
       "    <tr>\n",
       "      <th>2711</th>\n",
       "      <td>5.00</td>\n",
       "      <td>20.53</td>\n",
       "      <td>0.060</td>\n",
       "    </tr>\n",
       "    <tr>\n",
       "      <th>2712</th>\n",
       "      <td>11.23</td>\n",
       "      <td>23.47</td>\n",
       "      <td>1.617</td>\n",
       "    </tr>\n",
       "    <tr>\n",
       "      <th>2713</th>\n",
       "      <td>9.97</td>\n",
       "      <td>21.19</td>\n",
       "      <td>1.000</td>\n",
       "    </tr>\n",
       "    <tr>\n",
       "      <th>2714</th>\n",
       "      <td>8.38</td>\n",
       "      <td>23.37</td>\n",
       "      <td>0.651</td>\n",
       "    </tr>\n",
       "    <tr>\n",
       "      <th>2715</th>\n",
       "      <td>8.28</td>\n",
       "      <td>20.33</td>\n",
       "      <td>0.734</td>\n",
       "    </tr>\n",
       "    <tr>\n",
       "      <th>2716</th>\n",
       "      <td>8.16</td>\n",
       "      <td>22.91</td>\n",
       "      <td>0.652</td>\n",
       "    </tr>\n",
       "    <tr>\n",
       "      <th>2717</th>\n",
       "      <td>7.72</td>\n",
       "      <td>22.19</td>\n",
       "      <td>0.563</td>\n",
       "    </tr>\n",
       "    <tr>\n",
       "      <th>2718</th>\n",
       "      <td>11.85</td>\n",
       "      <td>24.63</td>\n",
       "      <td>1.391</td>\n",
       "    </tr>\n",
       "  </tbody>\n",
       "</table>\n",
       "<p>2719 rows × 3 columns</p>\n",
       "</div>"
      ],
      "text/plain": [
       "       Vmag    Plx    B-V\n",
       "0      9.27  21.90  0.999\n",
       "1      8.65  23.84  0.778\n",
       "2     10.78  24.45  1.150\n",
       "3     10.57  20.97  1.030\n",
       "4      9.93  24.22  1.068\n",
       "5      8.57  23.43  0.642\n",
       "6      8.61  20.42  0.787\n",
       "7      8.64  20.10  0.620\n",
       "8     10.35  20.05  1.033\n",
       "9     11.26  22.92  0.932\n",
       "10    12.43  22.98  1.490\n",
       "11     7.17  21.58  0.617\n",
       "12     7.66  20.44  0.741\n",
       "13    10.37  21.14  1.100\n",
       "14     9.80  22.52  0.855\n",
       "15     8.13  22.09  0.710\n",
       "16     7.53  23.90  0.577\n",
       "17     9.13  22.20  0.735\n",
       "18     8.22  21.03  0.636\n",
       "19     7.51  24.85  0.595\n",
       "20     7.06  20.63  0.463\n",
       "21     7.82  21.83  0.610\n",
       "22    11.65  22.50  1.260\n",
       "23     7.78  22.07  0.680\n",
       "24     3.88  23.28  1.013\n",
       "25     9.53  23.86  0.965\n",
       "26    11.55  24.32  1.395\n",
       "27     8.97  20.86  0.807\n",
       "28    10.03  21.87  1.293\n",
       "29     8.61  20.55  0.643\n",
       "...     ...    ...    ...\n",
       "2689   4.59  22.73  0.001\n",
       "2690   8.93  22.40  0.753\n",
       "2691  12.14  20.46  1.500\n",
       "2692   8.34  20.55  0.744\n",
       "2693   6.47  24.68  0.403\n",
       "2694   7.62  24.45  0.764\n",
       "2695  10.68  21.53  0.490\n",
       "2696   9.43  20.70  0.794\n",
       "2697   9.17  22.52  0.734\n",
       "2698   6.52  20.07  0.571\n",
       "2699  10.72  22.33  1.439\n",
       "2700  10.08  21.93  0.960\n",
       "2701   9.93  22.82  1.098\n",
       "2702  11.84  21.06  1.358\n",
       "2703   8.86  20.13  0.680\n",
       "2704   7.51  23.62  1.007\n",
       "2705   8.94  22.08  0.805\n",
       "2706   9.23  23.50  0.861\n",
       "2707   9.01  20.22  0.924\n",
       "2708   9.97  20.43  0.967\n",
       "2709   7.67  20.01  0.638\n",
       "2710   7.89  20.98  0.643\n",
       "2711   5.00  20.53  0.060\n",
       "2712  11.23  23.47  1.617\n",
       "2713   9.97  21.19  1.000\n",
       "2714   8.38  23.37  0.651\n",
       "2715   8.28  20.33  0.734\n",
       "2716   8.16  22.91  0.652\n",
       "2717   7.72  22.19  0.563\n",
       "2718  11.85  24.63  1.391\n",
       "\n",
       "[2719 rows x 3 columns]"
      ]
     },
     "execution_count": 17,
     "metadata": {},
     "output_type": "execute_result"
    }
   ],
   "source": [
    "data=pd.read_excel('C:\\\\Users\\\\merye\\\\OneDrive\\\\Desktop\\\\ml.data1.xlsx',usecols=(1,4,8))\n",
    "data"
   ]
  },
  {
   "cell_type": "code",
   "execution_count": 18,
   "metadata": {
    "collapsed": true
   },
   "outputs": [
    {
     "data": {
      "text/plain": [
       "0       21.90\n",
       "1       23.84\n",
       "2       24.45\n",
       "3       20.97\n",
       "4       24.22\n",
       "5       23.43\n",
       "6       20.42\n",
       "7       20.10\n",
       "8       20.05\n",
       "9       22.92\n",
       "10      22.98\n",
       "11      21.58\n",
       "12      20.44\n",
       "13      21.14\n",
       "14      22.52\n",
       "15      22.09\n",
       "16      23.90\n",
       "17      22.20\n",
       "18      21.03\n",
       "19      24.85\n",
       "20      20.63\n",
       "21      21.83\n",
       "22      22.50\n",
       "23      22.07\n",
       "24      23.28\n",
       "25      23.86\n",
       "26      24.32\n",
       "27      20.86\n",
       "28      21.87\n",
       "29      20.55\n",
       "        ...  \n",
       "2689    22.73\n",
       "2690    22.40\n",
       "2691    20.46\n",
       "2692    20.55\n",
       "2693    24.68\n",
       "2694    24.45\n",
       "2695    21.53\n",
       "2696    20.70\n",
       "2697    22.52\n",
       "2698    20.07\n",
       "2699    22.33\n",
       "2700    21.93\n",
       "2701    22.82\n",
       "2702    21.06\n",
       "2703    20.13\n",
       "2704    23.62\n",
       "2705    22.08\n",
       "2706    23.50\n",
       "2707    20.22\n",
       "2708    20.43\n",
       "2709    20.01\n",
       "2710    20.98\n",
       "2711    20.53\n",
       "2712    23.47\n",
       "2713    21.19\n",
       "2714    23.37\n",
       "2715    20.33\n",
       "2716    22.91\n",
       "2717    22.19\n",
       "2718    24.63\n",
       "Name: Plx, Length: 2719, dtype: float64"
      ]
     },
     "execution_count": 18,
     "metadata": {},
     "output_type": "execute_result"
    }
   ],
   "source": [
    "data['Plx']"
   ]
  },
  {
   "cell_type": "markdown",
   "metadata": {},
   "source": [
    "7\\. Calculate the shape of your array."
   ]
  },
  {
   "cell_type": "code",
   "execution_count": 19,
   "metadata": {},
   "outputs": [
    {
     "data": {
      "text/plain": [
       "(2719, 3)"
      ]
     },
     "execution_count": 19,
     "metadata": {},
     "output_type": "execute_result"
    }
   ],
   "source": [
    "np.shape(data)"
   ]
  },
  {
   "cell_type": "markdown",
   "metadata": {},
   "source": [
    "8\\. Define a function, logL, that calculates the (log of) a star's luminosity starting from Vmag (the visual brightness) and Plx (the parallax angle, which is inversely proportional to a star's distance). The function should implement the following relationship:\n",
    "\n",
    "LogL = (15 - Vmag - 5 * log(Plx))/2.5\n",
    "\n",
    "Hint: To implement Log = base 10 log, you can use the function np.log10().\n",
    "\n",
    "\n"
   ]
  },
  {
   "cell_type": "code",
   "execution_count": 20,
   "metadata": {},
   "outputs": [
    {
     "data": {
      "text/plain": [
       "array([-0.38888823, -0.2146125 , -1.08855773, ...,  0.01594982,\n",
       "        0.2196854 , -1.52292882])"
      ]
     },
     "execution_count": 20,
     "metadata": {},
     "output_type": "execute_result"
    }
   ],
   "source": [
    "def logL(Vmag,Plx):\n",
    "    logL=(15-Vmag-5*np.log10(Plx))/(2.5)\n",
    "    return logL\n",
    "logLV=np.vectorize(logL)\n",
    "logLV(data['Vmag'],data['Plx'])"
   ]
  },
  {
   "cell_type": "markdown",
   "metadata": {},
   "source": [
    "9\\. Make sure your function is vectorized (feed it a vector as argument and check that it runs).\n",
    "\n",
    "\n"
   ]
  },
  {
   "cell_type": "code",
   "execution_count": 21,
   "metadata": {},
   "outputs": [
    {
     "data": {
      "text/plain": [
       "array([3.80205999, 2.99382003, 2.79588002])"
      ]
     },
     "execution_count": 21,
     "metadata": {},
     "output_type": "execute_result"
    }
   ],
   "source": [
    "logLV([2,3,5],[5,8,4])"
   ]
  },
  {
   "cell_type": "markdown",
   "metadata": {},
   "source": [
    "10\\. Make a scatter plot that has B-V for the stars on the x axis (make sure you index your array correctly!), and their log luminosity (calculated using the function you just made) on the y axis. This is called a H-R diagram (Hertzsprung Russell diagram). It encodes information about the temperature of stars (expressed by color, or B-V) and their luminosity. \n",
    "\n",
    "Add axes titles: B-V for the x axis, Log L (as appropriate) for y axis\n",
    "\n",
    "Adjust axes limits to be [-0.5,3] for B-V, [-3, 4] for log L\n",
    "\n"
   ]
  },
  {
   "cell_type": "code",
   "execution_count": 22,
   "metadata": {
    "collapsed": true
   },
   "outputs": [
    {
     "data": {
      "image/png": "[encoded data removed]",
      "text/plain": [
       "<Figure size 432x288 with 1 Axes>"
      ]
     },
     "metadata": {
      "needs_background": "light"
     },
     "output_type": "display_data"
    }
   ],
   "source": [
    "y=logLV(data['Vmag'],data['Plx'])\n",
    "plt.plot(data['B-V'],y,'.')\n",
    "plt.title('H-R diagram')\n",
    "plt.ylabel('luminosity')\n",
    "plt.xlabel('temperature')\n",
    "plt.xlim(-0.5,3)\n",
    "plt.ylim(-3.0,4.0)\n",
    "plt.show()"
   ]
  },
  {
   "cell_type": "markdown",
   "metadata": {},
   "source": [
    "11\\. Add information to the above plot using colors and sizes. Make a scatter plot with colors arranged according to Vmag, and another scatter plot where the size of the markers is proportional to the Vmag of each point.\n",
    "\n",
    "\n"
   ]
  },
  {
   "cell_type": "code",
   "execution_count": 23,
   "metadata": {
    "collapsed": true
   },
   "outputs": [
    {
     "data": {
      "text/plain": [
       "(-3.0, 4.0)"
      ]
     },
     "execution_count": 23,
     "metadata": {},
     "output_type": "execute_result"
    },
    {
     "data": {
      "image/png": "[encoded data removed]",
      "text/plain": [
       "<Figure size 432x288 with 1 Axes>"
      ]
     },
     "metadata": {
      "needs_background": "light"
     },
     "output_type": "display_data"
    }
   ],
   "source": [
    "plt.scatter(data ['B-V'],y,c=data['Vmag'])\n",
    "\n",
    "plt.xlim(-0.5,3)\n",
    "plt.ylim(-3.0,4.0)"
   ]
  },
  {
   "cell_type": "code",
   "execution_count": 33,
   "metadata": {
    "collapsed": true
   },
   "outputs": [
    {
     "data": {
      "text/plain": [
       "(-3.0, 4.0)"
      ]
     },
     "execution_count": 33,
     "metadata": {},
     "output_type": "execute_result"
    },
    {
     "data": {
      "image/png": "[encoded data removed]",
      "text/plain": [
       "<Figure size 432x288 with 1 Axes>"
      ]
     },
     "metadata": {
      "needs_background": "light"
     },
     "output_type": "display_data"
    }
   ],
   "source": [
    "plt.scatter(data['B-V'],y,c=data['Vmag'],s=data['Vmag']*50,alpha=0.3)\n",
    "plt.xlim(-0.5,3)\n",
    "plt.ylim(-3.0,4.0)"
   ]
  },
  {
   "cell_type": "markdown",
   "metadata": {},
   "source": [
    "12\\. Visualize B-V as a histogram.\n",
    "\n",
    "\n"
   ]
  },
  {
   "cell_type": "code",
   "execution_count": 69,
   "metadata": {},
   "outputs": [
    {
     "data": {
      "image/png": "[encoded data removed]",
      "text/plain": [
       "<Figure size 432x288 with 1 Axes>"
      ]
     },
     "metadata": {
      "needs_background": "light"
     },
     "output_type": "display_data"
    }
   ],
   "source": [
    "plt.hist(data['B-V'],bins=100);"
   ]
  },
  {
   "cell_type": "markdown",
   "metadata": {},
   "source": [
    "13\\. For the B-V array, calculate its mean and its median, and its standard deviation.\n",
    "\n",
    "\n"
   ]
  },
  {
   "cell_type": "code",
   "execution_count": 67,
   "metadata": {},
   "outputs": [
    {
     "data": {
      "text/plain": [
       "0.7615298730395825"
      ]
     },
     "execution_count": 67,
     "metadata": {},
     "output_type": "execute_result"
    }
   ],
   "source": [
    "np.mean(data['B-V'])"
   ]
  },
  {
   "cell_type": "code",
   "execution_count": 61,
   "metadata": {},
   "outputs": [
    {
     "data": {
      "text/plain": [
       "0.7104999999999999"
      ]
     },
     "execution_count": 61,
     "metadata": {},
     "output_type": "execute_result"
    }
   ],
   "source": [
    "np.nanmedian(data['B-V'])"
   ]
  },
  {
   "cell_type": "code",
   "execution_count": 47,
   "metadata": {},
   "outputs": [
    {
     "data": {
      "text/plain": [
       "0.31812819990080593"
      ]
     },
     "execution_count": 47,
     "metadata": {},
     "output_type": "execute_result"
    }
   ],
   "source": [
    "np.std(data['B-V'])"
   ]
  },
  {
   "cell_type": "markdown",
   "metadata": {},
   "source": [
    "Extra points:\n",
    "\n",
    "14\\. Calculate the 10 and 90 percentile levels of the B-V array, and explain what they are. \n",
    "\n"
   ]
  },
  {
   "cell_type": "code",
   "execution_count": 56,
   "metadata": {},
   "outputs": [],
   "source": [
    "A=np.array(data['B-V'])"
   ]
  },
  {
   "cell_type": "code",
   "execution_count": 65,
   "metadata": {},
   "outputs": [
    {
     "data": {
      "text/plain": [
       "0.41639999999999994"
      ]
     },
     "execution_count": 65,
     "metadata": {},
     "output_type": "execute_result"
    }
   ],
   "source": [
    "np.nanpercentile(A,10)"
   ]
  },
  {
   "cell_type": "code",
   "execution_count": 64,
   "metadata": {},
   "outputs": [
    {
     "data": {
      "text/plain": [
       "1.2"
      ]
     },
     "execution_count": 64,
     "metadata": {},
     "output_type": "execute_result"
    }
   ],
   "source": [
    "np.nanpercentile(A,90)"
   ]
  },
  {
   "cell_type": "markdown",
   "metadata": {},
   "source": [
    "15\\. Are the mean and the median different? In either case, what does this tell us about the distribution?\n"
   ]
  },
  {
   "cell_type": "markdown",
   "metadata": {},
   "source": [
    "No, The mean and median are almost the same. That tell us that we might have a normal distribution, and that is also shown\n",
    "from the histogram that it looks like a bell curve"
   ]
  },
  {
   "cell_type": "code",
   "execution_count": null,
   "metadata": {},
   "outputs": [],
   "source": []
  }
 ],
 "metadata": {
  "kernelspec": {
   "display_name": "Python 3",
   "language": "python",
   "name": "python3"
  },
  "language_info": {
   "codemirror_mode": {
    "name": "ipython",
    "version": 3
   },
   "file_extension": ".py",
   "mimetype": "text/x-python",
   "name": "python",
   "nbconvert_exporter": "python",
   "pygments_lexer": "ipython3",
   "version": "3.7.1"
  }
 },
 "nbformat": 4,
 "nbformat_minor": 2
}
