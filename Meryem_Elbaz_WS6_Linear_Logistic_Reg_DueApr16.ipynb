{
 "cells": [
  {
   "cell_type": "raw",
   "metadata": {},
   "source": [
    "Meryem El baz"
   ]
  },
  {
   "cell_type": "code",
   "execution_count": 3,
   "metadata": {},
   "outputs": [],
   "source": [
    "#Doing all the imports for you\n",
    "\n",
    "import numpy as np\n",
    "import matplotlib.pyplot as plt\n",
    "from sklearn.linear_model import LogisticRegression\n",
    "from sklearn.linear_model import LinearRegression\n",
    "from sklearn.model_selection import train_test_split\n",
    "from sklearn.model_selection import StratifiedKFold\n",
    "from sklearn import metrics\n",
    "from sklearn.model_selection import cross_val_score, cross_val_predict\n",
    "%matplotlib inline"
   ]
  },
  {
   "cell_type": "code",
   "execution_count": 4,
   "metadata": {},
   "outputs": [],
   "source": [
    "X = np.genfromtxt('RRLyrae_features_small(1).txt',delimiter=',')\n",
    "Y = np.genfromtxt('RRLyrae_labels_small(1).txt')"
   ]
  },
  {
   "cell_type": "code",
   "execution_count": 5,
   "metadata": {},
   "outputs": [
    {
     "data": {
      "text/plain": [
       "(483, 2000)"
      ]
     },
     "execution_count": 5,
     "metadata": {},
     "output_type": "execute_result"
    }
   ],
   "source": [
    "np.sum(Y>0), np.sum(Y==0) # This \"small\" data set is more balanced than the original"
   ]
  },
  {
   "cell_type": "code",
   "execution_count": 6,
   "metadata": {},
   "outputs": [
    {
     "data": {
      "text/plain": [
       "(483, 2000)"
      ]
     },
     "execution_count": 6,
     "metadata": {},
     "output_type": "execute_result"
    }
   ],
   "source": [
    "np.sum(Y>0), np.sum(Y==0)"
   ]
  },
  {
   "cell_type": "markdown",
   "metadata": {},
   "source": [
    "1\\. This data set contains four features and the RR Lyrae designation (0/1). Which one would you think makes a better model, linear regression or logistic regression, and why?"
   ]
  },
  {
   "cell_type": "code",
   "execution_count": 27,
   "metadata": {},
   "outputs": [
    {
     "data": {
      "text/plain": [
       "<matplotlib.collections.PathCollection at 0x25dbcdeffd0>"
      ]
     },
     "execution_count": 27,
     "metadata": {},
     "output_type": "execute_result"
    },
    {
     "data": {
      "image/png": "[encoded data removed]",
      "text/plain": [
       "<Figure size 432x288 with 4 Axes>"
      ]
     },
     "metadata": {
      "needs_background": "light"
     },
     "output_type": "display_data"
    }
   ],
   "source": [
    "#plt.scatter(X[:,0],Y)\n",
    "fig, ax = plt.subplots(2, 2, sharex='col', sharey='row')\n",
    "plt.subplot(2,2,1)\n",
    "plt.scatter(X[:,0],Y)\n",
    "\n",
    "plt.subplot(2,2,2)\n",
    "plt.scatter(X[:,1],Y)\n",
    "\n",
    "plt.subplot(2,2,3)\n",
    "plt.scatter(X[:,2],Y)\n",
    "\n",
    "plt.subplot(2,2,4)\n",
    "plt.scatter(X[:,3],Y)"
   ]
  },
  {
   "cell_type": "raw",
   "metadata": {},
   "source": [
    "We use logistic regression, because we have either 0 or 1 as outputs"
   ]
  },
  {
   "cell_type": "markdown",
   "metadata": {},
   "source": [
    "2\\. Build a logistic regression model with 5-fold cross validation; you can use the function cross_val_predict (an example of the usage can be found in the Special Report 2 notebook) to build the array with the predicted labels. Report the r2_score. Save the array with the predictions because you will need it later."
   ]
  },
  {
   "cell_type": "code",
   "execution_count": 48,
   "metadata": {},
   "outputs": [
    {
     "name": "stdout",
     "output_type": "stream",
     "text": [
      "[0.93963783 0.96579477 0.97183099 0.96975806 0.94758065]\n"
     ]
    },
    {
     "data": {
      "text/plain": [
       "0.7378198757763976"
      ]
     },
     "execution_count": 48,
     "metadata": {},
     "output_type": "execute_result"
    }
   ],
   "source": [
    "import warnings\n",
    "warnings.filterwarnings(action='ignore')\n",
    "model=LogisticRegression()\n",
    "pred=cross_val_predict(model,X,Y,cv=5)\n",
    "scores=cross_val_score(model,X,Y,cv=5)\n",
    "print(scores)\n",
    "metrics.r2_score(Y,pred) #r2 score"
   ]
  },
  {
   "cell_type": "markdown",
   "metadata": {},
   "source": [
    "3\\. Now build a linear regression model with 5-fold cross validation just as above; report the r2_score. Save the array with the predictions because you will need it later. "
   ]
  },
  {
   "cell_type": "code",
   "execution_count": 50,
   "metadata": {},
   "outputs": [
    {
     "name": "stdout",
     "output_type": "stream",
     "text": [
      "[  0.           0.           0.           0.         -37.15384615]\n"
     ]
    },
    {
     "data": {
      "text/plain": [
       "-0.4555863740852395"
      ]
     },
     "execution_count": 50,
     "metadata": {},
     "output_type": "execute_result"
    }
   ],
   "source": [
    "model2=LinearRegression()\n",
    "pred2=cross_val_predict(model2,X,Y,cv=5)\n",
    "scores2=cross_val_score(model2,X,Y,cv=5)\n",
    "print(scores2)\n",
    "metrics.r2_score(Y,pred2)"
   ]
  },
  {
   "cell_type": "markdown",
   "metadata": {},
   "source": [
    "4\\. Plot the histograms of the \"prediction\" arrays for logistic and linear regression. Remember to use labels to identify the two distributions."
   ]
  },
  {
   "cell_type": "code",
   "execution_count": 56,
   "metadata": {},
   "outputs": [
    {
     "data": {
      "text/plain": [
       "(array([616.,   0.,   0.,   0.,   0.,   0.,   0.,   0.,   0., 129.]),\n",
       " array([0. , 0.1, 0.2, 0.3, 0.4, 0.5, 0.6, 0.7, 0.8, 0.9, 1. ]),\n",
       " <a list of 10 Patch objects>)"
      ]
     },
     "execution_count": 56,
     "metadata": {},
     "output_type": "execute_result"
    },
    {
     "data": {
      "image/png": "[encoded data removed]",
      "text/plain": [
       "<Figure size 432x288 with 1 Axes>"
      ]
     },
     "metadata": {
      "needs_background": "light"
     },
     "output_type": "display_data"
    }
   ],
   "source": [
    "plt.hist(pred) #logistic regression"
   ]
  },
  {
   "cell_type": "code",
   "execution_count": 52,
   "metadata": {},
   "outputs": [
    {
     "data": {
      "text/plain": [
       "(array([ 132., 1184.,  944.,  158.,   26.,    8.,   10.,    6.,    7.,\n",
       "           8.]),\n",
       " array([-0.33724954, -0.15552543,  0.02619868,  0.20792279,  0.38964689,\n",
       "         0.571371  ,  0.75309511,  0.93481922,  1.11654333,  1.29826744,\n",
       "         1.47999155]),\n",
       " <a list of 10 Patch objects>)"
      ]
     },
     "execution_count": 52,
     "metadata": {},
     "output_type": "execute_result"
    },
    {
     "data": {
      "image/png": "[encoded data removed]",
      "text/plain": [
       "<Figure size 432x288 with 1 Axes>"
      ]
     },
     "metadata": {
      "needs_background": "light"
     },
     "output_type": "display_data"
    }
   ],
   "source": [
    "plt.hist(pred2)"
   ]
  },
  {
   "cell_type": "markdown",
   "metadata": {},
   "source": [
    "5\\. How do the predictions differ? Which of the two models is essentially behaving like a classifier, and why?"
   ]
  },
  {
   "cell_type": "markdown",
   "metadata": {},
   "source": [
    "Comparing the two histograms, we notice that the logistic regression is take either 0 or 1 as values while the linear regression model takes values from approximatly -0.3 to 1.5\n",
    "The regression model is behaing like a classifier because it simply give only two options either false 0 or right 1"
   ]
  },
  {
   "cell_type": "markdown",
   "metadata": {},
   "source": [
    "The Logistic Regression model also has an option called \"predict.proba\", demonstrated in the code below:"
   ]
  },
  {
   "cell_type": "code",
   "execution_count": 53,
   "metadata": {},
   "outputs": [
    {
     "data": {
      "text/plain": [
       "Text(0, 0.5, 'Class')"
      ]
     },
     "execution_count": 53,
     "metadata": {},
     "output_type": "execute_result"
    },
    {
     "data": {
      "image/png": "[encoded data removed]",
      "text/plain": [
       "<Figure size 432x288 with 1 Axes>"
      ]
     },
     "metadata": {
      "needs_background": "light"
     },
     "output_type": "display_data"
    }
   ],
   "source": [
    "X_train, X_test, y_train, y_test = train_test_split(X, Y, test_size=0.3, random_state=0)\n",
    "model2 = LogisticRegression()\n",
    "model2.fit(X_train, y_train)\n",
    "probs = model2.predict_proba(X_test)\n",
    "pred = model2.predict(X_test)\n",
    "\n",
    "plt.scatter(probs[:,0], pred);\n",
    "plt.xlabel('Probability')\n",
    "plt.ylabel('Class')"
   ]
  },
  {
   "cell_type": "markdown",
   "metadata": {},
   "source": [
    "6\\. Based on the code and figure above, what is the difference between using\"predict\" and \"predict_proba\"? What is the probability value that corresponds to transitioning from one class to the other?"
   ]
  },
  {
   "cell_type": "raw",
   "metadata": {},
   "source": [
    "The difference between \"predict\" and \"predict_proba\" is that the \"predict\" will give us the predicted values(either 0 or 1),while the \"predict_proba\" will give us the probability f getting either 0 or 1.\n",
    "Based on the figure from the \"predict_broba\" code, we see that we have higher chances of getting 0 compared to getting 1."
   ]
  },
  {
   "cell_type": "markdown",
   "metadata": {},
   "source": [
    "7\\. For this second part, we are going to use the \"study hours data set\" from the Linear Regression part (you can find the data set, called data_students_hours.csv, on Blackboard). Define an array x (features) with the first column of this file and an array y (labels) with the second column."
   ]
  },
  {
   "cell_type": "code",
   "execution_count": 97,
   "metadata": {},
   "outputs": [
    {
     "data": {
      "text/html": [
       "<div>\n",
       "<style scoped>\n",
       "    .dataframe tbody tr th:only-of-type {\n",
       "        vertical-align: middle;\n",
       "    }\n",
       "\n",
       "    .dataframe tbody tr th {\n",
       "        vertical-align: top;\n",
       "    }\n",
       "\n",
       "    .dataframe thead th {\n",
       "        text-align: right;\n",
       "    }\n",
       "</style>\n",
       "<table border=\"1\" class=\"dataframe\">\n",
       "  <thead>\n",
       "    <tr style=\"text-align: right;\">\n",
       "      <th></th>\n",
       "      <th>hours</th>\n",
       "      <th>scores</th>\n",
       "    </tr>\n",
       "  </thead>\n",
       "  <tbody>\n",
       "    <tr>\n",
       "      <th>0</th>\n",
       "      <td>53.426804</td>\n",
       "      <td>68.777596</td>\n",
       "    </tr>\n",
       "    <tr>\n",
       "      <th>1</th>\n",
       "      <td>61.530358</td>\n",
       "      <td>62.562382</td>\n",
       "    </tr>\n",
       "    <tr>\n",
       "      <th>2</th>\n",
       "      <td>47.475640</td>\n",
       "      <td>71.546632</td>\n",
       "    </tr>\n",
       "    <tr>\n",
       "      <th>3</th>\n",
       "      <td>59.813208</td>\n",
       "      <td>87.230925</td>\n",
       "    </tr>\n",
       "    <tr>\n",
       "      <th>4</th>\n",
       "      <td>55.142188</td>\n",
       "      <td>78.211518</td>\n",
       "    </tr>\n",
       "  </tbody>\n",
       "</table>\n",
       "</div>"
      ],
      "text/plain": [
       "       hours     scores\n",
       "0  53.426804  68.777596\n",
       "1  61.530358  62.562382\n",
       "2  47.475640  71.546632\n",
       "3  59.813208  87.230925\n",
       "4  55.142188  78.211518"
      ]
     },
     "execution_count": 97,
     "metadata": {},
     "output_type": "execute_result"
    }
   ],
   "source": [
    "import pandas as pd\n",
    "data=pd.read_csv('data_s_h.csv')\n",
    "data.columns=['hours','scores']\n",
    "data.head()"
   ]
  },
  {
   "cell_type": "code",
   "execution_count": 98,
   "metadata": {},
   "outputs": [],
   "source": [
    "x=data['hours']\n",
    "y=data['scores']"
   ]
  },
  {
   "cell_type": "markdown",
   "metadata": {},
   "source": [
    "8 \\. In the linear regression notebook, we went through an example and calculated the model coefficients of a linear regression model applied to these data. In the plot of the best fit line, what is the meaning of m and b?"
   ]
  },
  {
   "cell_type": "raw",
   "metadata": {},
   "source": [
    "m was the slope and the b was the intercept of the linear model (line)"
   ]
  },
  {
   "cell_type": "markdown",
   "metadata": {},
   "source": [
    "9\\. However these can also be calculated by hand using the formulas on the linear regression slides. Code up the formulas below and report your coefficients for slope and intercept."
   ]
  },
  {
   "cell_type": "code",
   "execution_count": 99,
   "metadata": {},
   "outputs": [
    {
     "data": {
      "text/latex": [
       "\n",
       "\\begin{equation}\n",
       "\n",
       "S S_{xy} = \\sum x_i y_i - (\\sum x_i \\sum y_i)/n \\\\\n",
       "\n",
       "S S_{xx} = \\sum x_i^2 - (\\sum x_i)^2 / n \\\\\n",
       "\n",
       "m = S S_{xy}/ S S_{xx} \\\\\n",
       "\n",
       "b = \\bar{y} - m * \\bar{x}\n",
       "\n",
       "\\end{equation}\n",
       "\n",
       "where n = number of points and the overhead bar represent the mean.\n",
       "\n"
      ],
      "text/plain": [
       "<IPython.core.display.Latex object>"
      ]
     },
     "metadata": {},
     "output_type": "display_data"
    }
   ],
   "source": [
    "%%latex\n",
    "\n",
    "\\begin{equation}\n",
    "\n",
    "S S_{xy} = \\sum x_i y_i - (\\sum x_i \\sum y_i)/n \\\\\n",
    "\n",
    "S S_{xx} = \\sum x_i^2 - (\\sum x_i)^2 / n \\\\\n",
    "\n",
    "m = S S_{xy}/ S S_{xx} \\\\\n",
    "\n",
    "b = \\bar{y} - m * \\bar{x}\n",
    "\n",
    "\\end{equation}\n",
    "\n",
    "where n = number of points and the overhead bar represent the mean.\n",
    "\n"
   ]
  },
  {
   "cell_type": "code",
   "execution_count": 100,
   "metadata": {},
   "outputs": [
    {
     "data": {
      "text/plain": [
       "11754.42743777961"
      ]
     },
     "execution_count": 100,
     "metadata": {},
     "output_type": "execute_result"
    }
   ],
   "source": [
    "SS_xy=sum(x*y)-sum(x)*sum(y)/np.size(x)\n",
    "SS_xy"
   ]
  },
  {
   "cell_type": "code",
   "execution_count": 101,
   "metadata": {},
   "outputs": [
    {
     "data": {
      "text/plain": [
       "9130.663879043655"
      ]
     },
     "execution_count": 101,
     "metadata": {},
     "output_type": "execute_result"
    }
   ],
   "source": [
    "SS_xx=sum(x*x)-((sum(x))**2)/np.size(x)\n",
    "SS_xx"
   ]
  },
  {
   "cell_type": "code",
   "execution_count": 137,
   "metadata": {},
   "outputs": [
    {
     "data": {
      "text/plain": [
       "1.287357370010949"
      ]
     },
     "execution_count": 137,
     "metadata": {},
     "output_type": "execute_result"
    }
   ],
   "source": [
    "M=SS_xy/SS_xx\n",
    "M"
   ]
  },
  {
   "cell_type": "code",
   "execution_count": 138,
   "metadata": {},
   "outputs": [
    {
     "data": {
      "text/plain": [
       "9.90860619032562"
      ]
     },
     "execution_count": 138,
     "metadata": {},
     "output_type": "execute_result"
    }
   ],
   "source": [
    "B=y.mean()-m*x.mean()\n",
    "B"
   ]
  },
  {
   "cell_type": "markdown",
   "metadata": {},
   "source": [
    "10\\. Looking at the data (hours vs scores), do you think it would make sense to fit these data using a logistic regression model? Why or why not?"
   ]
  },
  {
   "cell_type": "code",
   "execution_count": 108,
   "metadata": {},
   "outputs": [
    {
     "data": {
      "text/plain": [
       "[<matplotlib.lines.Line2D at 0x25dbf935400>]"
      ]
     },
     "execution_count": 108,
     "metadata": {},
     "output_type": "execute_result"
    },
    {
     "data": {
      "image/png": "[encoded data removed]",
      "text/plain": [
       "<Figure size 432x288 with 1 Axes>"
      ]
     },
     "metadata": {
      "needs_background": "light"
     },
     "output_type": "display_data"
    }
   ],
   "source": [
    "plt.plot(x,y,'.')"
   ]
  },
  {
   "cell_type": "raw",
   "metadata": {},
   "source": [
    "No, I think a linear model would be better because from visualizing the data into the above plot, we can see that a line would fit better than logistic regression model."
   ]
  },
  {
   "cell_type": "markdown",
   "metadata": {},
   "source": [
    "Extra credit: Run the gradient descent notebook and report the coefficients you found here. Calculate the cost function (found in the linear regression notebook) for the slope, intercept values you found with the gradient descent method and the values you found above, using the formulas. Which set of values is best? \n"
   ]
  },
  {
   "cell_type": "raw",
   "metadata": {},
   "source": [
    "###I'm not sure why I'm getting only nan values when i run the code in the notebook\n",
    "Optimized b: nan\n",
    "Optimized m: nan\n",
    "Minimized cost: nan"
   ]
  },
  {
   "cell_type": "code",
   "execution_count": 151,
   "metadata": {},
   "outputs": [
    {
     "ename": "TypeError",
     "evalue": "'str' object is not callable",
     "output_type": "error",
     "traceback": [
      "\u001b[1;31m---------------------------------------------------------------------------\u001b[0m",
      "\u001b[1;31mTypeError\u001b[0m                                 Traceback (most recent call last)",
      "\u001b[1;32m<ipython-input-151-2484e198618b>\u001b[0m in \u001b[0;36m<module>\u001b[1;34m\u001b[0m\n\u001b[0;32m      5\u001b[0m \u001b[0mplt\u001b[0m\u001b[1;33m.\u001b[0m\u001b[0mxlabel\u001b[0m\u001b[1;33m(\u001b[0m\u001b[1;34m'hours'\u001b[0m\u001b[1;33m)\u001b[0m\u001b[1;33m\u001b[0m\u001b[1;33m\u001b[0m\u001b[0m\n\u001b[0;32m      6\u001b[0m \u001b[1;33m\u001b[0m\u001b[0m\n\u001b[1;32m----> 7\u001b[1;33m \u001b[0mplt\u001b[0m\u001b[1;33m.\u001b[0m\u001b[0mylabel\u001b[0m\u001b[1;33m(\u001b[0m\u001b[1;34m'test scores'\u001b[0m\u001b[1;33m)\u001b[0m\u001b[1;33m\u001b[0m\u001b[1;33m\u001b[0m\u001b[0m\n\u001b[0m",
      "\u001b[1;31mTypeError\u001b[0m: 'str' object is not callable"
     ]
    },
    {
     "data": {
      "image/png": "[encoded data removed]",
      "text/plain": [
       "<Figure size 432x288 with 1 Axes>"
      ]
     },
     "metadata": {
      "needs_background": "light"
     },
     "output_type": "display_data"
    }
   ],
   "source": [
    "plt.scatter(x,y,marker='*',color = 'm');\n",
    "\n",
    "plt.plot(x, m*x + b, color = 'k')\n",
    "\n",
    "plt.xlabel('hours')\n",
    "\n",
    "plt.ylabel('test scores')"
   ]
  },
  {
   "cell_type": "code",
   "execution_count": null,
   "metadata": {},
   "outputs": [],
   "source": []
  }
 ],
 "metadata": {
  "kernelspec": {
   "display_name": "Python 3",
   "language": "python",
   "name": "python3"
  },
  "language_info": {
   "codemirror_mode": {
    "name": "ipython",
    "version": 3
   },
   "file_extension": ".py",
   "mimetype": "text/x-python",
   "name": "python",
   "nbconvert_exporter": "python",
   "pygments_lexer": "ipython3",
   "version": "3.7.1"
  }
 },
 "nbformat": 4,
 "nbformat_minor": 2
}
