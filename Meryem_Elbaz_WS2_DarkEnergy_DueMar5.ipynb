{
 "cells": [
  {
   "cell_type": "markdown",
   "metadata": {},
   "source": [
    "#### Welcome to the Dark Energy worksheet. It's due March 5 @ 2pm."
   ]
  },
  {
   "cell_type": "markdown",
   "metadata": {},
   "source": [
    "#### Please upload to Blackboard the .ipynb file, containing your last name."
   ]
  },
  {
   "cell_type": "markdown",
   "metadata": {},
   "source": [
    "#### Original work statement: \n",
    "\n",
    "Please write your name here to indicate that your worksheet is the result of your own work, and you have not copied from sources without citing them (this is plagiarism and is not acceptable). Identical or very similar worksheet will share the credit.\n",
    "\n",
    "#### Your name:  Meryem Elbaz"
   ]
  },
  {
   "cell_type": "markdown",
   "metadata": {},
   "source": [
    "The worksheet is organized as a series of tasks. You can edit this notebook directly by adding code (and comment) cells to perform these tasks. You will need to import packages, even if this is not explicitly requested.\n",
    "\n",
    "One function from a package that we haven't mentioned so far but you might need is scipy.integrate (numerical integration)."
   ]
  },
  {
   "cell_type": "markdown",
   "metadata": {
    "collapsed": true
   },
   "source": [
    "#### Task 1: import the data from the file sn_data.txt\n",
    "\n",
    "This data set contains three columns. \n",
    "\n",
    "The first one is the redshift of the supernovae. Redshift is a measure of the velocity at which supernovae are moving away from us. Redshift = 0 means no motion, increasing values represent increasing velocity. Redshift has no units.\n",
    "\n",
    "The second column is the distance of the supernovae, expressed in the units of Mpc (megaparsec). Mega = 1 Million; 1 parsec (pc) = 3.26 light years.\n",
    "\n",
    "The third column contains the error on the distance (let's call it sigma(d)), again expressed in Mpc."
   ]
  },
  {
   "cell_type": "code",
   "execution_count": 255,
   "metadata": {},
   "outputs": [],
   "source": [
    "import numpy as np\n",
    "import pandas as pd\n",
    "import matplotlib.pyplot as plt"
   ]
  },
  {
   "cell_type": "code",
   "execution_count": 256,
   "metadata": {
    "scrolled": true
   },
   "outputs": [
    {
     "data": {
      "text/html": [
       "<div>\n",
       "<style scoped>\n",
       "    .dataframe tbody tr th:only-of-type {\n",
       "        vertical-align: middle;\n",
       "    }\n",
       "\n",
       "    .dataframe tbody tr th {\n",
       "        vertical-align: top;\n",
       "    }\n",
       "\n",
       "    .dataframe thead th {\n",
       "        text-align: right;\n",
       "    }\n",
       "</style>\n",
       "<table border=\"1\" class=\"dataframe\">\n",
       "  <thead>\n",
       "    <tr style=\"text-align: right;\">\n",
       "      <th></th>\n",
       "      <th>#z</th>\n",
       "      <th>d</th>\n",
       "      <th>d_err</th>\n",
       "    </tr>\n",
       "  </thead>\n",
       "  <tbody>\n",
       "    <tr>\n",
       "      <th>0</th>\n",
       "      <td>0.010</td>\n",
       "      <td>51.5229</td>\n",
       "      <td>8.77905</td>\n",
       "    </tr>\n",
       "    <tr>\n",
       "      <th>1</th>\n",
       "      <td>0.010</td>\n",
       "      <td>43.6516</td>\n",
       "      <td>7.63887</td>\n",
       "    </tr>\n",
       "    <tr>\n",
       "      <th>2</th>\n",
       "      <td>0.010</td>\n",
       "      <td>55.4626</td>\n",
       "      <td>9.96117</td>\n",
       "    </tr>\n",
       "    <tr>\n",
       "      <th>3</th>\n",
       "      <td>0.013</td>\n",
       "      <td>63.6796</td>\n",
       "      <td>9.09091</td>\n",
       "    </tr>\n",
       "    <tr>\n",
       "      <th>4</th>\n",
       "      <td>0.013</td>\n",
       "      <td>55.7186</td>\n",
       "      <td>7.69781</td>\n",
       "    </tr>\n",
       "    <tr>\n",
       "      <th>5</th>\n",
       "      <td>0.014</td>\n",
       "      <td>66.9885</td>\n",
       "      <td>8.94630</td>\n",
       "    </tr>\n",
       "    <tr>\n",
       "      <th>6</th>\n",
       "      <td>0.014</td>\n",
       "      <td>66.6807</td>\n",
       "      <td>8.90520</td>\n",
       "    </tr>\n",
       "    <tr>\n",
       "      <th>7</th>\n",
       "      <td>0.014</td>\n",
       "      <td>76.9130</td>\n",
       "      <td>10.27170</td>\n",
       "    </tr>\n",
       "    <tr>\n",
       "      <th>8</th>\n",
       "      <td>0.015</td>\n",
       "      <td>82.4138</td>\n",
       "      <td>10.62680</td>\n",
       "    </tr>\n",
       "    <tr>\n",
       "      <th>9</th>\n",
       "      <td>0.016</td>\n",
       "      <td>80.5378</td>\n",
       "      <td>10.01400</td>\n",
       "    </tr>\n",
       "    <tr>\n",
       "      <th>10</th>\n",
       "      <td>0.016</td>\n",
       "      <td>66.9885</td>\n",
       "      <td>8.32932</td>\n",
       "    </tr>\n",
       "    <tr>\n",
       "      <th>11</th>\n",
       "      <td>0.016</td>\n",
       "      <td>76.2079</td>\n",
       "      <td>9.47566</td>\n",
       "    </tr>\n",
       "    <tr>\n",
       "      <th>12</th>\n",
       "      <td>0.016</td>\n",
       "      <td>79.4328</td>\n",
       "      <td>9.87665</td>\n",
       "    </tr>\n",
       "    <tr>\n",
       "      <th>13</th>\n",
       "      <td>0.017</td>\n",
       "      <td>68.5488</td>\n",
       "      <td>8.20765</td>\n",
       "    </tr>\n",
       "    <tr>\n",
       "      <th>14</th>\n",
       "      <td>0.017</td>\n",
       "      <td>78.3430</td>\n",
       "      <td>9.38035</td>\n",
       "    </tr>\n",
       "    <tr>\n",
       "      <th>15</th>\n",
       "      <td>0.017</td>\n",
       "      <td>83.9460</td>\n",
       "      <td>10.43780</td>\n",
       "    </tr>\n",
       "    <tr>\n",
       "      <th>16</th>\n",
       "      <td>0.017</td>\n",
       "      <td>87.4984</td>\n",
       "      <td>11.28250</td>\n",
       "    </tr>\n",
       "    <tr>\n",
       "      <th>17</th>\n",
       "      <td>0.017</td>\n",
       "      <td>87.0964</td>\n",
       "      <td>10.42840</td>\n",
       "    </tr>\n",
       "    <tr>\n",
       "      <th>18</th>\n",
       "      <td>0.018</td>\n",
       "      <td>98.1748</td>\n",
       "      <td>11.30280</td>\n",
       "    </tr>\n",
       "    <tr>\n",
       "      <th>19</th>\n",
       "      <td>0.018</td>\n",
       "      <td>72.1107</td>\n",
       "      <td>8.30206</td>\n",
       "    </tr>\n",
       "    <tr>\n",
       "      <th>20</th>\n",
       "      <td>0.019</td>\n",
       "      <td>82.7942</td>\n",
       "      <td>9.53204</td>\n",
       "    </tr>\n",
       "    <tr>\n",
       "      <th>21</th>\n",
       "      <td>0.021</td>\n",
       "      <td>102.3290</td>\n",
       "      <td>10.83860</td>\n",
       "    </tr>\n",
       "    <tr>\n",
       "      <th>22</th>\n",
       "      <td>0.023</td>\n",
       "      <td>106.6600</td>\n",
       "      <td>10.80610</td>\n",
       "    </tr>\n",
       "    <tr>\n",
       "      <th>23</th>\n",
       "      <td>0.023</td>\n",
       "      <td>117.4900</td>\n",
       "      <td>11.90330</td>\n",
       "    </tr>\n",
       "    <tr>\n",
       "      <th>24</th>\n",
       "      <td>0.024</td>\n",
       "      <td>104.2320</td>\n",
       "      <td>10.56010</td>\n",
       "    </tr>\n",
       "    <tr>\n",
       "      <th>25</th>\n",
       "      <td>0.025</td>\n",
       "      <td>120.2260</td>\n",
       "      <td>12.18060</td>\n",
       "    </tr>\n",
       "    <tr>\n",
       "      <th>26</th>\n",
       "      <td>0.025</td>\n",
       "      <td>104.2320</td>\n",
       "      <td>10.56010</td>\n",
       "    </tr>\n",
       "    <tr>\n",
       "      <th>27</th>\n",
       "      <td>0.026</td>\n",
       "      <td>130.0170</td>\n",
       "      <td>12.57380</td>\n",
       "    </tr>\n",
       "    <tr>\n",
       "      <th>28</th>\n",
       "      <td>0.026</td>\n",
       "      <td>133.6600</td>\n",
       "      <td>13.54150</td>\n",
       "    </tr>\n",
       "    <tr>\n",
       "      <th>29</th>\n",
       "      <td>0.026</td>\n",
       "      <td>117.4900</td>\n",
       "      <td>12.44440</td>\n",
       "    </tr>\n",
       "    <tr>\n",
       "      <th>...</th>\n",
       "      <td>...</td>\n",
       "      <td>...</td>\n",
       "      <td>...</td>\n",
       "    </tr>\n",
       "    <tr>\n",
       "      <th>176</th>\n",
       "      <td>0.884</td>\n",
       "      <td>6982.3200</td>\n",
       "      <td>610.94100</td>\n",
       "    </tr>\n",
       "    <tr>\n",
       "      <th>177</th>\n",
       "      <td>0.900</td>\n",
       "      <td>5345.6400</td>\n",
       "      <td>615.44000</td>\n",
       "    </tr>\n",
       "    <tr>\n",
       "      <th>178</th>\n",
       "      <td>0.905</td>\n",
       "      <td>5997.9100</td>\n",
       "      <td>828.64200</td>\n",
       "    </tr>\n",
       "    <tr>\n",
       "      <th>179</th>\n",
       "      <td>0.935</td>\n",
       "      <td>6223.0000</td>\n",
       "      <td>831.08200</td>\n",
       "    </tr>\n",
       "    <tr>\n",
       "      <th>180</th>\n",
       "      <td>0.949</td>\n",
       "      <td>5470.1600</td>\n",
       "      <td>806.11300</td>\n",
       "    </tr>\n",
       "    <tr>\n",
       "      <th>181</th>\n",
       "      <td>0.949</td>\n",
       "      <td>6309.5700</td>\n",
       "      <td>697.36000</td>\n",
       "    </tr>\n",
       "    <tr>\n",
       "      <th>182</th>\n",
       "      <td>0.950</td>\n",
       "      <td>6251.7300</td>\n",
       "      <td>978.86900</td>\n",
       "    </tr>\n",
       "    <tr>\n",
       "      <th>183</th>\n",
       "      <td>0.950</td>\n",
       "      <td>6729.7700</td>\n",
       "      <td>960.74300</td>\n",
       "    </tr>\n",
       "    <tr>\n",
       "      <th>184</th>\n",
       "      <td>0.954</td>\n",
       "      <td>5888.4400</td>\n",
       "      <td>732.16600</td>\n",
       "    </tr>\n",
       "    <tr>\n",
       "      <th>185</th>\n",
       "      <td>0.954</td>\n",
       "      <td>7244.3600</td>\n",
       "      <td>900.76100</td>\n",
       "    </tr>\n",
       "    <tr>\n",
       "      <th>186</th>\n",
       "      <td>0.961</td>\n",
       "      <td>6854.8800</td>\n",
       "      <td>1041.74000</td>\n",
       "    </tr>\n",
       "    <tr>\n",
       "      <th>187</th>\n",
       "      <td>0.970</td>\n",
       "      <td>8590.1400</td>\n",
       "      <td>1424.13000</td>\n",
       "    </tr>\n",
       "    <tr>\n",
       "      <th>188</th>\n",
       "      <td>0.975</td>\n",
       "      <td>6950.2400</td>\n",
       "      <td>832.18300</td>\n",
       "    </tr>\n",
       "    <tr>\n",
       "      <th>189</th>\n",
       "      <td>0.977</td>\n",
       "      <td>6053.4100</td>\n",
       "      <td>724.80100</td>\n",
       "    </tr>\n",
       "    <tr>\n",
       "      <th>190</th>\n",
       "      <td>1.010</td>\n",
       "      <td>8994.9800</td>\n",
       "      <td>787.04400</td>\n",
       "    </tr>\n",
       "    <tr>\n",
       "      <th>191</th>\n",
       "      <td>1.020</td>\n",
       "      <td>8016.7800</td>\n",
       "      <td>701.45400</td>\n",
       "    </tr>\n",
       "    <tr>\n",
       "      <th>192</th>\n",
       "      <td>1.020</td>\n",
       "      <td>6280.5800</td>\n",
       "      <td>780.92500</td>\n",
       "    </tr>\n",
       "    <tr>\n",
       "      <th>193</th>\n",
       "      <td>1.056</td>\n",
       "      <td>7413.1000</td>\n",
       "      <td>785.18800</td>\n",
       "    </tr>\n",
       "    <tr>\n",
       "      <th>194</th>\n",
       "      <td>1.120</td>\n",
       "      <td>8590.1400</td>\n",
       "      <td>712.06300</td>\n",
       "    </tr>\n",
       "    <tr>\n",
       "      <th>195</th>\n",
       "      <td>1.140</td>\n",
       "      <td>8749.8400</td>\n",
       "      <td>1168.54000</td>\n",
       "    </tr>\n",
       "    <tr>\n",
       "      <th>196</th>\n",
       "      <td>1.140</td>\n",
       "      <td>7726.8100</td>\n",
       "      <td>1103.08000</td>\n",
       "    </tr>\n",
       "    <tr>\n",
       "      <th>197</th>\n",
       "      <td>1.199</td>\n",
       "      <td>6886.5200</td>\n",
       "      <td>1078.26000</td>\n",
       "    </tr>\n",
       "    <tr>\n",
       "      <th>198</th>\n",
       "      <td>1.230</td>\n",
       "      <td>10814.3000</td>\n",
       "      <td>1145.44000</td>\n",
       "    </tr>\n",
       "    <tr>\n",
       "      <th>199</th>\n",
       "      <td>1.230</td>\n",
       "      <td>9862.7900</td>\n",
       "      <td>908.39700</td>\n",
       "    </tr>\n",
       "    <tr>\n",
       "      <th>200</th>\n",
       "      <td>1.300</td>\n",
       "      <td>10280.2000</td>\n",
       "      <td>946.83800</td>\n",
       "    </tr>\n",
       "    <tr>\n",
       "      <th>201</th>\n",
       "      <td>1.305</td>\n",
       "      <td>7979.9500</td>\n",
       "      <td>1102.47000</td>\n",
       "    </tr>\n",
       "    <tr>\n",
       "      <th>202</th>\n",
       "      <td>1.340</td>\n",
       "      <td>9638.2900</td>\n",
       "      <td>1375.96000</td>\n",
       "    </tr>\n",
       "    <tr>\n",
       "      <th>203</th>\n",
       "      <td>1.370</td>\n",
       "      <td>11117.3000</td>\n",
       "      <td>1279.93000</td>\n",
       "    </tr>\n",
       "    <tr>\n",
       "      <th>204</th>\n",
       "      <td>1.390</td>\n",
       "      <td>9549.9300</td>\n",
       "      <td>835.60200</td>\n",
       "    </tr>\n",
       "    <tr>\n",
       "      <th>205</th>\n",
       "      <td>1.755</td>\n",
       "      <td>11749.0000</td>\n",
       "      <td>1893.71000</td>\n",
       "    </tr>\n",
       "  </tbody>\n",
       "</table>\n",
       "<p>206 rows × 3 columns</p>\n",
       "</div>"
      ],
      "text/plain": [
       "        #z           d       d_err\n",
       "0    0.010     51.5229     8.77905\n",
       "1    0.010     43.6516     7.63887\n",
       "2    0.010     55.4626     9.96117\n",
       "3    0.013     63.6796     9.09091\n",
       "4    0.013     55.7186     7.69781\n",
       "5    0.014     66.9885     8.94630\n",
       "6    0.014     66.6807     8.90520\n",
       "7    0.014     76.9130    10.27170\n",
       "8    0.015     82.4138    10.62680\n",
       "9    0.016     80.5378    10.01400\n",
       "10   0.016     66.9885     8.32932\n",
       "11   0.016     76.2079     9.47566\n",
       "12   0.016     79.4328     9.87665\n",
       "13   0.017     68.5488     8.20765\n",
       "14   0.017     78.3430     9.38035\n",
       "15   0.017     83.9460    10.43780\n",
       "16   0.017     87.4984    11.28250\n",
       "17   0.017     87.0964    10.42840\n",
       "18   0.018     98.1748    11.30280\n",
       "19   0.018     72.1107     8.30206\n",
       "20   0.019     82.7942     9.53204\n",
       "21   0.021    102.3290    10.83860\n",
       "22   0.023    106.6600    10.80610\n",
       "23   0.023    117.4900    11.90330\n",
       "24   0.024    104.2320    10.56010\n",
       "25   0.025    120.2260    12.18060\n",
       "26   0.025    104.2320    10.56010\n",
       "27   0.026    130.0170    12.57380\n",
       "28   0.026    133.6600    13.54150\n",
       "29   0.026    117.4900    12.44440\n",
       "..     ...         ...         ...\n",
       "176  0.884   6982.3200   610.94100\n",
       "177  0.900   5345.6400   615.44000\n",
       "178  0.905   5997.9100   828.64200\n",
       "179  0.935   6223.0000   831.08200\n",
       "180  0.949   5470.1600   806.11300\n",
       "181  0.949   6309.5700   697.36000\n",
       "182  0.950   6251.7300   978.86900\n",
       "183  0.950   6729.7700   960.74300\n",
       "184  0.954   5888.4400   732.16600\n",
       "185  0.954   7244.3600   900.76100\n",
       "186  0.961   6854.8800  1041.74000\n",
       "187  0.970   8590.1400  1424.13000\n",
       "188  0.975   6950.2400   832.18300\n",
       "189  0.977   6053.4100   724.80100\n",
       "190  1.010   8994.9800   787.04400\n",
       "191  1.020   8016.7800   701.45400\n",
       "192  1.020   6280.5800   780.92500\n",
       "193  1.056   7413.1000   785.18800\n",
       "194  1.120   8590.1400   712.06300\n",
       "195  1.140   8749.8400  1168.54000\n",
       "196  1.140   7726.8100  1103.08000\n",
       "197  1.199   6886.5200  1078.26000\n",
       "198  1.230  10814.3000  1145.44000\n",
       "199  1.230   9862.7900   908.39700\n",
       "200  1.300  10280.2000   946.83800\n",
       "201  1.305   7979.9500  1102.47000\n",
       "202  1.340   9638.2900  1375.96000\n",
       "203  1.370  11117.3000  1279.93000\n",
       "204  1.390   9549.9300   835.60200\n",
       "205  1.755  11749.0000  1893.71000\n",
       "\n",
       "[206 rows x 3 columns]"
      ]
     },
     "execution_count": 256,
     "metadata": {},
     "output_type": "execute_result"
    }
   ],
   "source": [
    "data=pd.read_excel('C:\\\\Users\\\\merye\\\\OneDrive\\\\Desktop\\\\machine learning\\\\data2.xlsx')\n",
    "data"
   ]
  },
  {
   "cell_type": "markdown",
   "metadata": {},
   "source": [
    "#### Task 2: Make an errorbar plot of this data set.\n",
    "\n",
    "Place redshift (z) on the x axis, distance on the y axis, and sigma(d) as the error on the distance. Add labels to the axes and don't forget the units."
   ]
  },
  {
   "cell_type": "code",
   "execution_count": 257,
   "metadata": {},
   "outputs": [
    {
     "data": {
      "text/plain": [
       "<ErrorbarContainer object of 3 artists>"
      ]
     },
     "execution_count": 257,
     "metadata": {},
     "output_type": "execute_result"
    },
    {
     "data": {
      "image/png": "[encoded data removed]",
      "text/plain": [
       "<Figure size 432x288 with 1 Axes>"
      ]
     },
     "metadata": {
      "needs_background": "light"
     },
     "output_type": "display_data"
    }
   ],
   "source": [
    "x=data['#z']\n",
    "y=data['d']\n",
    "plt.xlabel('redshift')\n",
    "plt.ylabel('sigma(d)Mpc')\n",
    "plt.errorbar(data['#z'],data['d'],yerr=data['d_err'],marker='.',ls='none')"
   ]
  },
  {
   "cell_type": "markdown",
   "metadata": {},
   "source": [
    "#### A few words on our model\n",
    "\n",
    "The plot that you just made just shows the data. Now what we want to do is to build different models for the distance of these supernovae, and then choose the model that works best.\n",
    "\n",
    "Our model for the distance (called \"Luminosity Distance\" by physicists) is a function of different parameters: \n",
    "\n",
    "- z (the redshift) is the independent variable; in other words, our model for the distance will return a distance for any redshift value.\n",
    "\n",
    "- Omegam is the percentage of matter in the Universe, and it's a number between 0 and 1;\n",
    "\n",
    "- OmegaDE is the percentage of Dark Energy in the Universe; we can assume that Omegam + OmegaDE = 1 (so the Universe only contains matter and dark energy), which simplifies our model a little bit, because we can write OmegaDE = 1 - Omegam;\n",
    "\n",
    "- H0 is the Hubble constant, which gives the current rate of expansion of the Universe; we will fix it in the beginning to be = 70 km/s/Mpc;\n",
    "\n",
    "- c is the speed of light in km/s; c = 2.99 x 10**5. This is a constant of nature so we won't need to change it.\n",
    "\n",
    "Here comes our model:"
   ]
  },
  {
   "cell_type": "markdown",
   "metadata": {},
   "source": [
    "\n",
    "\\begin{align}\n",
    "D_L(z,\\Omega_m, H_0, c) = \\,(1+z) \\frac{c}{H_0}\\int_0^z \\frac{dx}{\\sqrt{\\Omega_m(1+x)^3 + \\Omega_{DE}}} \n",
    "\\end{align}"
   ]
  },
  {
   "cell_type": "markdown",
   "metadata": {},
   "source": [
    "#### Task 3: Complete this function definition.\n",
    "\n",
    "Notes: \n",
    "\n",
    "1. Omega_DE is not a parameter of the function, so make sure you write your function as a function of Omega_m only.\n",
    "\n",
    "2. It might be easier to first define a function for the integrand\n",
    "       \n",
    "3. You might find useful to invoke the scipy.integrate.quad function of the scipy package and to look at the examples here\n",
    "       \n",
    "https://docs.scipy.org/doc/scipy-0.18.1/reference/tutorial/integrate.html\n",
    "\n",
    "       \n",
    "def LumDist(z, Omegam = 0.7, H0 = 70, ckms = 2.9979 $\\times 10^5$) :\n",
    "\n",
    "    ###write the function here\n"
   ]
  },
  {
   "cell_type": "code",
   "execution_count": 258,
   "metadata": {},
   "outputs": [],
   "source": [
    "import scipy.integrate as integrate"
   ]
  },
  {
   "cell_type": "code",
   "execution_count": 259,
   "metadata": {},
   "outputs": [],
   "source": [
    "def LumDist(z,Omegam,H0,c):\n",
    "    i=lambda x: (1+z)*(c/H0)*(1/np.sqrt(Omegam*(1+x)**3+1-Omegam))\n",
    "    return integrate.quad(i,0,z)"
   ]
  },
  {
   "cell_type": "markdown",
   "metadata": {},
   "source": [
    "#### Task 4\n",
    "\n",
    "1. Answer the questions: What are the arguments of the LumDist function? Which ones have default values?\n",
    "\n",
    "2. Check that LumDist(1) ~ 5512 and LumDist(0.5) ~ 2522"
   ]
  },
  {
   "cell_type": "code",
   "execution_count": 260,
   "metadata": {},
   "outputs": [],
   "source": [
    "# LumDist takes z as an argument and the rest (Omegam, H0 and c) are constants "
   ]
  },
  {
   "cell_type": "code",
   "execution_count": 261,
   "metadata": {},
   "outputs": [
    {
     "name": "stdout",
     "output_type": "stream",
     "text": [
      "(5512.274175117097, 6.119853707261644e-11)\n"
     ]
    },
    {
     "data": {
      "text/plain": [
       "2521.971428894891"
      ]
     },
     "execution_count": 261,
     "metadata": {},
     "output_type": "execute_result"
    }
   ],
   "source": [
    "print(LumDist(1,0.7,70,2.9979*10**5))\n",
    "LumDist(0.5,0.7,70,2.9979*10**5)[0]"
   ]
  },
  {
   "cell_type": "markdown",
   "metadata": {},
   "source": [
    "#### Task 5\n",
    "\n",
    "Vectorize the function so we can give it a 1D array of redshifts as input. Check that it works by \n",
    "defining a numpy array as the first column of your supernova data and feeding it to your function."
   ]
  },
  {
   "cell_type": "code",
   "execution_count": 262,
   "metadata": {},
   "outputs": [
    {
     "data": {
      "text/plain": [
       "array([ 447.31628228,  928.16857288, 1436.94652893, 1969.33350011,\n",
       "       2521.97142889, 5512.27417512])"
      ]
     },
     "execution_count": 262,
     "metadata": {},
     "output_type": "execute_result"
    }
   ],
   "source": [
    "Lumdist=np.vectorize(LumDist)\n",
    "Lumdist((.1,.2,.3,.4,.5,1),0.7,70,2.9979*10**5)[0]"
   ]
  },
  {
   "cell_type": "code",
   "execution_count": 263,
   "metadata": {},
   "outputs": [
    {
     "data": {
      "text/plain": [
       "array([   43.02919451,    43.02919451,    43.02919451,    56.01606079,\n",
       "          56.01606079,    60.35295154,    60.35295154,    60.35295154,\n",
       "          64.69379657,    69.03858787,    69.03858787,    69.03858787,\n",
       "          69.03858787,    73.38731746,    73.38731746,    73.38731746,\n",
       "          73.38731746,    73.38731746,    77.73997739,    77.73997739,\n",
       "          82.09655971,    90.82145992,    99.561955  ,    99.561955  ,\n",
       "         103.938031  ,   108.31798223,   108.31798223,   112.70180089,\n",
       "         112.70180089,   112.70180089,   117.08947921,   121.48100945,\n",
       "         125.87638389,   125.87638389,   130.27559481,   134.67863454,\n",
       "         139.08549541,   143.49616977,   147.91065   ,   156.75099771,\n",
       "         156.75099771,   156.75099771,   165.60647795,   174.47703049,\n",
       "         187.81098886,   196.71896068,   201.17852427,   214.57943747,\n",
       "         219.05379162,   219.05379162,   228.01353083,   232.49890138,\n",
       "         245.97693024,   254.98047536,   268.51293919,   277.55259648,\n",
       "         313.85412763,   332.08985763,   350.38164591,   391.74089933,\n",
       "         451.96942242,   559.8989186 ,   790.50093057,   829.60560872,\n",
       "        1174.27427766,  1245.74111116,  1322.85600055,  1359.03151756,\n",
       "        1436.94652893,  1541.65465691,  1599.63466163,  1615.49464115,\n",
       "        1631.37469306,  1647.27472428,  1737.74786546,  1743.08934945,\n",
       "        1801.98683405,  1812.72307678,  1861.14014417,  1904.3190295 ,\n",
       "        1969.33350011,  2051.00991196,  2056.47091953,  2105.70843011,\n",
       "        2133.13090041,  2133.13090041,  2133.13090041,  2133.13090041,\n",
       "        2188.12053461,  2237.77430107,  2243.30083488,  2243.30083488,\n",
       "        2270.96165231,  2293.12392788,  2298.66914487,  2298.66914487,\n",
       "        2304.21621594,  2315.3159101 ,  2354.22286851,  2354.22286851,\n",
       "        2354.22286851,  2365.35563856,  2376.49570346,  2382.06846524,\n",
       "        2393.21943504,  2398.79763812,  2409.95946829,  2465.87646356,\n",
       "        2493.90184944,  2499.51223933,  2521.97142889,  2521.97142889,\n",
       "        2544.4587136 ,  2566.97394402,  2583.87861704,  2623.38331369,\n",
       "        2668.63436796,  2679.96414283,  2702.6439821 ,  2731.03164322,\n",
       "        2736.71420193,  2748.08432855,  2765.15200919,  2805.03458829,\n",
       "        2816.44444654,  2844.99776776,  2919.42650489,  2919.42650489,\n",
       "        2925.16307523,  2971.11313136,  2976.86404516,  2982.61654274,\n",
       "        2988.37062214,  3045.99798557,  3115.35663244,  3150.11919171,\n",
       "        3167.52110329,  3179.12998519,  3208.17870918,  3208.17870918,\n",
       "        3248.91021221,  3266.38903871,  3283.88127633,  3324.74838338,\n",
       "        3342.28498057,  3424.29629279,  3500.70307611,  3553.74105556,\n",
       "        3606.89301424,  3648.31148037,  3719.47178861,  3856.40885015,\n",
       "        3886.27141616,  3916.16702151,  3916.16702151,  4012.05289641,\n",
       "        4102.24635998,  4144.43480484,  4222.94846058,  4265.3123518 ,\n",
       "        4277.42745997,  4344.14843842,  4344.14843842,  4368.44727077,\n",
       "        4368.44727077,  4411.01691774,  4447.55220918,  4447.55220918,\n",
       "        4459.74023614,  4471.93304506,  4514.64539436,  4520.75190667,\n",
       "        4606.3667996 ,  4643.12909933,  4704.49227308,  4778.27958838,\n",
       "        4790.59341702,  4889.26643473,  4920.1605179 ,  5106.10314874,\n",
       "        5193.2103252 ,  5193.2103252 ,  5199.44028387,  5199.44028387,\n",
       "        5224.37074544,  5224.37074544,  5268.03981492,  5324.26152199,\n",
       "        5355.53239473,  5368.04802625,  5575.14950858,  5638.1255418 ,\n",
       "        5638.1255418 ,  5865.65938452,  6273.23442714,  6401.38059126,\n",
       "        6401.38059126,  6781.48930126,  6982.41484602,  6982.41484602,\n",
       "        7439.05212196,  7471.82055834,  7701.74980463,  7899.58534786,\n",
       "        8031.85416566, 10494.22052127])"
      ]
     },
     "execution_count": 263,
     "metadata": {},
     "output_type": "execute_result"
    }
   ],
   "source": [
    "Lumdist(data['#z'],0.7,70,2.9979*10**5)[0]"
   ]
  },
  {
   "cell_type": "markdown",
   "metadata": {},
   "source": [
    "#### Task 6\n",
    "\n",
    "Plot the data with error bars as before, and then the luminosity distance values for the supernovae predicted by these three models:\n",
    "    \n",
    "Model 1: Omega_m = 0 \n",
    "    \n",
    "Model 2: Omega_m = 0.3\n",
    "    \n",
    "Model 3: Omega_m = 1\n",
    "\n",
    "Make sure you add labels for all the models.\n",
    "    \n"
   ]
  },
  {
   "cell_type": "code",
   "execution_count": 264,
   "metadata": {},
   "outputs": [
    {
     "data": {
      "text/plain": [
       "<matplotlib.legend.Legend at 0x1dc194788d0>"
      ]
     },
     "execution_count": 264,
     "metadata": {},
     "output_type": "execute_result"
    },
    {
     "data": {
      "image/png": "[encoded data removed]",
      "text/plain": [
       "<Figure size 432x288 with 1 Axes>"
      ]
     },
     "metadata": {
      "needs_background": "light"
     },
     "output_type": "display_data"
    }
   ],
   "source": [
    "\n",
    "plt.xlabel('redshift')\n",
    "plt.ylabel('Luminozity distance')\n",
    "plt.errorbar(data['#z'],data['d'],yerr=data['d_err'],marker='.',ls='none')\n",
    "plt.plot(data['#z'],Lumdist(data['#z'],0,70,2.9979*10**5)[0],'r',label='Omega_m=0')\n",
    "plt.plot(data['#z'],Lumdist(data['#z'],0.3,70,2.9979*10**5)[0],'g',label='Omega_m=0.3')\n",
    "plt.plot(data['#z'],Lumdist(data['#z'],1,70,2.9979*10**5)[0],'y',label='Omega_m=1')\n",
    "plt.legend(loc='upper left')"
   ]
  },
  {
   "cell_type": "markdown",
   "metadata": {
    "collapsed": true
   },
   "source": [
    "#### Task 7\n",
    "\n",
    "Answer the following questions:\n",
    "\n",
    "1) What are the Omega_DE values for the above models? Which model contains no Dark Energy at all?\n",
    "\n",
    "2) Just judging by eye, which model seems to be the best fit to the data and why?"
   ]
  },
  {
   "cell_type": "raw",
   "metadata": {},
   "source": [
    "Omega_DE=1-Omega_m\n",
    "for Omega_m=0 we have Omega_DE=1\n",
    "for Omega_m=0.3 we have Omega_DE=0.7\n",
    "for Omega_m=1 we have Omega_DE=0\n",
    "the last model with Omega_m=1 contains no dark energy at all"
   ]
  },
  {
   "cell_type": "markdown",
   "metadata": {},
   "source": [
    "Omega_m=0.3 looks like it's a better fit "
   ]
  },
  {
   "cell_type": "markdown",
   "metadata": {},
   "source": [
    "#### Task 8\n",
    "\n",
    "It is now time to define a proper function to judge whether these models are good fit to the data. This is done through the $\\chi^2$ function that we mentioned in the \"Fit a line\" worksheet.\n",
    "\n",
    "Complete the following function:\n",
    "\n",
    "def chi2(x,x_err,y): \n",
    "\n",
    "    Write a function that computes the chi2 between a vector containing measurements (x) and their experimental errors (x_err), with respect to a vector of model predictions y \n",
    "\n",
    "   "
   ]
  },
  {
   "cell_type": "code",
   "execution_count": 265,
   "metadata": {},
   "outputs": [],
   "source": [
    "def chi2(x,x_err,y):\n",
    "    return np.sum((( y-x)**2)/x_err**2)"
   ]
  },
  {
   "cell_type": "markdown",
   "metadata": {},
   "source": [
    "#### Task 9\n",
    "\n",
    "Calculate the $\\chi^2$ of the model with Omega_m = 0.3. \n",
    "    \n",
    "(Hint: your \"y\" vector is the vector of luminosity distances for all the supernovae)"
   ]
  },
  {
   "cell_type": "code",
   "execution_count": 266,
   "metadata": {
    "scrolled": true
   },
   "outputs": [
    {
     "name": "stdout",
     "output_type": "stream",
     "text": [
      "308.12217768805334\n"
     ]
    }
   ],
   "source": [
    "chi2(data['d'],data['d_err'],Lumdist(data['#z'],0.3,70,2.9979*10**5)[0])\n",
    "print(allchi2)"
   ]
  },
  {
   "cell_type": "markdown",
   "metadata": {},
   "source": [
    "#### Task 10\n",
    "\n",
    "And now the magic begins!\n",
    "\n",
    "1. Calculate and save the $\\chi^2$ values for different models with values of Omega_m between 0 and 1, spaced every 0.05.\n",
    "\n",
    "2. Create a scatter plot that has the values of Omega_m on the x axis, and the value of the $\\chi^2$ on the y axis."
   ]
  },
  {
   "cell_type": "code",
   "execution_count": 267,
   "metadata": {},
   "outputs": [
    {
     "data": {
      "text/plain": [
       "array([ 447.81951104,  312.94109452,  254.30626851,  237.20959594,\n",
       "        245.73655416,  271.14400378,  308.12217769,  353.22912659,\n",
       "        404.12843292,  459.17881165,  517.19650109,  577.30986224,\n",
       "        638.86642538,  701.37131864,  764.4452659 ,  827.79521495,\n",
       "        891.19335824,  954.4618712 , 1017.46163137, 1080.08376209,\n",
       "       1142.24321425])"
      ]
     },
     "execution_count": 267,
     "metadata": {},
     "output_type": "execute_result"
    }
   ],
   "source": [
    "chi2_1=np.array([chi2(data['d'],data['d_err'],Lumdist(data['#z'],Omegam,70,2.9979*10**5)[0])\\\n",
    "                 for Omegam in np.arange(0,1.05,0.05)])\n",
    "chi2_1"
   ]
  },
  {
   "cell_type": "code",
   "execution_count": 268,
   "metadata": {},
   "outputs": [
    {
     "data": {
      "text/plain": [
       "<matplotlib.collections.PathCollection at 0x1dc1978c748>"
      ]
     },
     "execution_count": 268,
     "metadata": {},
     "output_type": "execute_result"
    },
    {
     "data": {
      "image/png": "[encoded data removed]",
      "text/plain": [
       "<Figure size 432x288 with 1 Axes>"
      ]
     },
     "metadata": {
      "needs_background": "light"
     },
     "output_type": "display_data"
    }
   ],
   "source": [
    "Omegam=np.arange(0,1.05,0.05)\n",
    "plt.scatter(Omegam,chi2_1)"
   ]
  },
  {
   "cell_type": "markdown",
   "metadata": {},
   "source": [
    "#### Task 11\n",
    "\n",
    "Find the model with the lowest $\\chi^2$ and answer the questions:\n",
    "\n",
    "1. Which value of Omega_m corresponds to this model? \n",
    "\n",
    "2. Which value of Omega_DE corresponds to this model?\n",
    "\n",
    "3. Based on your answers, is a non-zero value of Dark Energy supported by the data?"
   ]
  },
  {
   "cell_type": "code",
   "execution_count": 269,
   "metadata": {},
   "outputs": [
    {
     "name": "stdout",
     "output_type": "stream",
     "text": [
      "3\n"
     ]
    },
    {
     "data": {
      "text/plain": [
       "0.15000000000000002"
      ]
     },
     "execution_count": 269,
     "metadata": {},
     "output_type": "execute_result"
    }
   ],
   "source": [
    "print(chi2_1.argmin())\n",
    "Omegam[3]"
   ]
  },
  {
   "cell_type": "code",
   "execution_count": 270,
   "metadata": {},
   "outputs": [
    {
     "data": {
      "text/plain": [
       "0.85"
      ]
     },
     "execution_count": 270,
     "metadata": {},
     "output_type": "execute_result"
    }
   ],
   "source": [
    "Omega_DE=1-Omegam[3]\n",
    "Omega_DE"
   ]
  },
  {
   "cell_type": "raw",
   "metadata": {},
   "source": [
    " Yes, it is supported because the model that fits our data better has a 0.85 as a value for dark energy"
   ]
  },
  {
   "cell_type": "markdown",
   "metadata": {},
   "source": [
    "#### Task 12 (optional, for Extra Credit)\n",
    "\n",
    "Repeat the $\\chi^2$ analysis for a two parameter model, with Omega_m varying between 0 and 1 in 0.05 intervals \n",
    "and H_0, the Hubble constant, varying between 50 and 80 km/s/Mpc in intervals of 5 km/s/Mpc.\n",
    "\n",
    "What are the values of Omega_m and H_0 that correspond to the lowest $\\chi^2$? How do your conclusions change in this case?\n",
    "\n"
   ]
  },
  {
   "cell_type": "code",
   "execution_count": 271,
   "metadata": {},
   "outputs": [
    {
     "data": {
      "text/plain": [
       "array([[4843.44917674, 3949.58388208, 3309.9989485 , 2822.69100118,\n",
       "        2437.99664854, 2127.18433667, 1871.94077439, 1659.82364914,\n",
       "        1481.98314726, 1331.90217263, 1204.64824706, 1096.4043599 ,\n",
       "        1004.1617618 ,  925.51159914,  858.49939145,  801.52085027,\n",
       "         753.2456921 ,  712.56088509,  678.52768128,  650.34861591,\n",
       "         627.34183505],\n",
       "       [2671.30422144, 2062.63529988, 1642.45367598, 1333.47984949,\n",
       "        1098.48600242,  916.1227102 ,  772.88852301,  659.67741642,\n",
       "         570.05781617,  499.32554724,  443.9439139 ,  401.19402265,\n",
       "         368.94672295,  345.50852105,  329.51437096,  319.85120497,\n",
       "         315.60221455,  316.00549231,  320.42283084,  328.31584326,\n",
       "         339.22745145],\n",
       "       [1412.68559896, 1010.52344929,  748.54109077,  567.70170689,\n",
       "         439.93034768,  349.30058705,  285.84005183,  242.8860569 ,\n",
       "         215.77568834,  201.12907989,  196.42794994,  199.75374879,\n",
       "         209.61772992,  224.84669802,  244.50389557,  267.83283966,\n",
       "         294.21659059,  323.14765947,  354.2054116 ,  387.03885286,\n",
       "         421.35334778],\n",
       "       [ 739.29978722,  489.75091387,  344.13586794,  257.17782326,\n",
       "         207.68731463,  183.80913296,  178.21565668,  186.0724221 ,\n",
       "         204.03801669,  229.72074631,  261.36129193,  297.63683577,\n",
       "         337.53476375,  380.2682859 ,  425.21837498,  471.89280683,\n",
       "         519.89664179,  568.91055439,  618.67466475,  668.97630132,\n",
       "         719.64062053],\n",
       "       [ 447.81951104,  312.94109452,  254.30626851,  237.20959594,\n",
       "         245.73655416,  271.14400378,  308.12217769,  353.22912659,\n",
       "         404.12843292,  459.17881165,  517.19650109,  577.30986224,\n",
       "         638.86642538,  701.37131864,  764.4452659 ,  827.79521495,\n",
       "         891.19335824,  954.4618712 , 1017.46163137, 1080.08376209,\n",
       "        1142.24321425],\n",
       "       [ 408.53158498,  360.98234196,  368.20052404,  403.72947472,\n",
       "         455.75820174,  517.95879264,  586.58431115,  659.26933609,\n",
       "         734.45308098,  811.07249055,  888.38663301,  965.87050261,\n",
       "        1043.14793782, 1119.94772855, 1196.07404975, 1271.38605441,\n",
       "        1345.78349468, 1419.19640957, 1491.57761551, 1562.89716511,\n",
       "        1633.13821089],\n",
       "       [ 536.65082584,  556.33445972,  613.91495907,  689.45783263,\n",
       "         774.38612696,  864.27052454,  956.5899044 , 1049.82154205,\n",
       "        1143.0106872 , 1235.54529687, 1327.02926943, 1417.20709183,\n",
       "        1505.91708975, 1593.061413  , 1678.58622112, 1762.46829957,\n",
       "        1844.70584658, 1925.3120308 , 2004.31042799, 2081.73175494,\n",
       "        2157.61151266]])"
      ]
     },
     "execution_count": 271,
     "metadata": {},
     "output_type": "execute_result"
    }
   ],
   "source": [
    "chi2_2=np.array([[chi2(data['d'],data['d_err'],Lumdist(data['#z'],Omegam,H0,2.9979*10**5)[0])for Omegam in\\\n",
    "                 np.arange(0,1.05,0.05)] for H0 in np.arange(50,85,5)])\n",
    "chi2_2"
   ]
  },
  {
   "cell_type": "code",
   "execution_count": 272,
   "metadata": {},
   "outputs": [
    {
     "data": {
      "text/plain": [
       "178.21565667671462"
      ]
     },
     "execution_count": 272,
     "metadata": {},
     "output_type": "execute_result"
    }
   ],
   "source": [
    "chi2_2.min()"
   ]
  },
  {
   "cell_type": "code",
   "execution_count": 274,
   "metadata": {},
   "outputs": [
    {
     "name": "stdout",
     "output_type": "stream",
     "text": [
      "178.21565667671462\n",
      "(3, 6)\n",
      "0.30000000000000004\n",
      "65\n"
     ]
    }
   ],
   "source": [
    "H0=np.arange(50,85,5)\n",
    "print(chi2_2.min())\n",
    "print(np.unravel_index(chi2_2.argmin(), chi2_2.shape))\n",
    "print(Omegam[6])\n",
    "print(H0[3])"
   ]
  },
  {
   "cell_type": "raw",
   "metadata": {},
   "source": [
    "The Omega_DE for this case is 0.70, and the value of H0 is 65\n",
    "The universe has dark energy since the value of Omega_DE is not 0\n",
    "and that's the model that fits our data the most"
   ]
  }
 ],
 "metadata": {
  "kernelspec": {
   "display_name": "Python 3",
   "language": "python",
   "name": "python3"
  },
  "language_info": {
   "codemirror_mode": {
    "name": "ipython",
    "version": 3
   },
   "file_extension": ".py",
   "mimetype": "text/x-python",
   "name": "python",
   "nbconvert_exporter": "python",
   "pygments_lexer": "ipython3",
   "version": "3.7.1"
  }
 },
 "nbformat": 4,
 "nbformat_minor": 2
}
