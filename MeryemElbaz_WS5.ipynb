{
 "cells": [
  {
   "cell_type": "markdown",
   "metadata": {},
   "source": [
    "### Worksheet 5: Discover the Higgs Boson."
   ]
  },
  {
   "cell_type": "markdown",
   "metadata": {},
   "source": [
    "#### Original work statement: \n",
    "\n",
    "Please write your name here to indicate that your worksheet is the result of your own work, and you have not copied from sources without citing them (this is plagiarism and is not acceptable). Identical or very similar worksheet will share the credit.\n",
    "\n",
    "#### Your name: Meryem El baz"
   ]
  },
  {
   "cell_type": "markdown",
   "metadata": {},
   "source": [
    "For this worksheet, we provide you with a (simplified) version of the simulated Higgs boson data challenge, run by Kaggle in 2014. The files are called \"Higgs_features.csv\" and \"Higgs_labels.csv\". The labels are 0 and 1, corresponding to \"no Higgs signal\", and \"Higgs signal\"."
   ]
  },
  {
   "cell_type": "markdown",
   "metadata": {},
   "source": [
    "1\\. Read the data into two numpy arrays, one for features and one for labels."
   ]
  },
  {
   "cell_type": "code",
   "execution_count": 8,
   "metadata": {},
   "outputs": [
    {
     "name": "stdout",
     "output_type": "stream",
     "text": [
      "[[ 393.335   79.46   308.879 ...   -1.411   49.063   39.478]\n",
      " [  71.048   29.291   55.602 ...   -1.412   22.926    9.486]\n",
      " [ 141.45    87.017   72.091 ...    1.233   23.591   69.754]\n",
      " ...\n",
      " [  78.421   51.766   51.303 ...    1.108   26.775   30.509]\n",
      " [  90.507   70.86    75.535 ...   -1.41    45.511   27.279]\n",
      " [-999.      71.491   35.996 ...   -1.395   20.52    44.2  ]]\n",
      "[0. 0. 0. ... 0. 0. 0.]\n"
     ]
    }
   ],
   "source": [
    "import numpy as np\n",
    "x=np.genfromtxt('Higgs_features.txt', delimiter=\",\")\n",
    "y=np.genfromtxt('Higgs_labels.txt', delimiter=\",\")\n",
    "print(x)\n",
    "print(y)"
   ]
  },
  {
   "cell_type": "markdown",
   "metadata": {},
   "source": [
    "2\\. How many instances and features are in this data set?"
   ]
  },
  {
   "cell_type": "code",
   "execution_count": 65,
   "metadata": {},
   "outputs": [
    {
     "data": {
      "text/plain": [
       "(25000, 8)"
      ]
     },
     "execution_count": 65,
     "metadata": {},
     "output_type": "execute_result"
    }
   ],
   "source": [
    "x.shape"
   ]
  },
  {
   "cell_type": "raw",
   "metadata": {},
   "source": [
    "we have 25000 instances and 8 features"
   ]
  },
  {
   "cell_type": "markdown",
   "metadata": {},
   "source": [
    "3\\. Plot the distribution of each feature for this data set in a histogram (like we did in on of the previous worksheets), in one plot. Add a legend (with labels \"Feature 1\", \"Feature 2\"...) and set the transparency of the histograms (property \"alpha\") to 0.5 for clarity. Hint: make sure you are plotting each column, not each row!"
   ]
  },
  {
   "cell_type": "code",
   "execution_count": 24,
   "metadata": {},
   "outputs": [
    {
     "data": {
      "text/plain": [
       "<matplotlib.legend.Legend at 0x2017c9d4710>"
      ]
     },
     "execution_count": 24,
     "metadata": {},
     "output_type": "execute_result"
    },
    {
     "data": {
      "image/png": "[encoded data removed]",
      "text/plain": [
       "<Figure size 432x288 with 1 Axes>"
      ]
     },
     "metadata": {},
     "output_type": "display_data"
    }
   ],
   "source": [
    "for i in range(x.shape[1]):\n",
    "    plt.hist(x[:,i],alpha=0.5,histtype='stepfilled',label = 'Feature'+str(i+1));\n",
    "plt.legend()"
   ]
  },
  {
   "cell_type": "markdown",
   "metadata": {},
   "source": [
    "4\\. Do you see anything unusual in the distribution of any of the features? What problem could this cause?"
   ]
  },
  {
   "cell_type": "raw",
   "metadata": {},
   "source": [
    "We have an important number of outliers marked as -999. This might affect the performnce our model"
   ]
  },
  {
   "cell_type": "markdown",
   "metadata": {},
   "source": [
    "5\\. How many positive (Higgs) events does your data set contain? Based on this, is the data set balanced or unbalanced?"
   ]
  },
  {
   "cell_type": "code",
   "execution_count": 31,
   "metadata": {},
   "outputs": [
    {
     "data": {
      "text/plain": [
       "(182768, 17225)"
      ]
     },
     "execution_count": 31,
     "metadata": {},
     "output_type": "execute_result"
    }
   ],
   "source": [
    "np.sum(x > 0), np.sum(x < 0)"
   ]
  },
  {
   "cell_type": "raw",
   "metadata": {},
   "source": [
    "No, I think it's unbalanced because we have so many positive features compared to the negative one"
   ]
  },
  {
   "cell_type": "markdown",
   "metadata": {},
   "source": [
    "6\\. On the basis of your answer to 5, which evaluation metric (accuracy, precision, recall) would you like to pick for this data set?"
   ]
  },
  {
   "cell_type": "raw",
   "metadata": {},
   "source": [
    "Because of our unbalanced data, it's better to use the recall score"
   ]
  },
  {
   "cell_type": "markdown",
   "metadata": {},
   "source": [
    "7\\. Use a decision tree classifier as your model, and do five fold cross validation on your data, <b> using the scoring parameter you chose above</b>. Report the mean and standard deviation of the scores obtained for the five folds.\n",
    "\n",
    "Note: If you simply set the parameter \"cv = 5\" in the cross_val_score function, this will divide the data in five sets using the first 20%, second 20%... etc of your data, which is not great if your data are in a specific order. Make sure you use cv = StratifiedKFold(shuffle=True, n_splits=5).\n"
   ]
  },
  {
   "cell_type": "code",
   "execution_count": 5,
   "metadata": {},
   "outputs": [],
   "source": [
    "from sklearn.tree import DecisionTreeClassifier\n",
    "from sklearn.model_selection import train_test_split\n",
    "from sklearn.model_selection import cross_val_score, cross_val_predict\n",
    "from sklearn.model_selection import KFold, StratifiedKFold"
   ]
  },
  {
   "cell_type": "code",
   "execution_count": 42,
   "metadata": {},
   "outputs": [
    {
     "name": "stdout",
     "output_type": "stream",
     "text": [
      "[0.64955752 0.64483776 0.62536873 0.63185841 0.65466352]\n",
      "0.6412571874357875\n",
      "0.010974751493599125\n"
     ]
    }
   ],
   "source": [
    "from sklearn.tree import DecisionTreeClassifier\n",
    "from sklearn.model_selection import train_test_split\n",
    "from sklearn.model_selection import cross_val_score, cross_val_predict\n",
    "from sklearn.model_selection import KFold, StratifiedKFold\n",
    "model = DecisionTreeClassifier()\n",
    "scores = cross_val_score(model, x, y, cv=StratifiedKFold(shuffle=True, n_splits=5), scoring='recall') \n",
    "print(scores) \n",
    "print(np.mean(scores))\n",
    "print(np.std(scores))"
   ]
  },
  {
   "cell_type": "markdown",
   "metadata": {},
   "source": [
    "8\\. We want to now take a look at the confusion matrix for your classifier. When doing cross validation, sklearn offers a function called cross_val_predict that allows you to save the vector with the predicted values when each object is part of the test set. (http://scikit-learn.org/stable/modules/cross_validation.html). The code for doing that follows; of course you will have to change the name of the model (algorithm) and of the arrays."
   ]
  },
  {
   "cell_type": "code",
   "execution_count": 48,
   "metadata": {},
   "outputs": [
    {
     "name": "stdout",
     "output_type": "stream",
     "text": [
      "[0. 0. 1. ... 0. 0. 0.]\n",
      "[[13435  3091]\n",
      " [ 3091  5383]]\n"
     ]
    }
   ],
   "source": [
    "from sklearn.model_selection import cross_val_predict\n",
    "from sklearn import metrics\n",
    "\n",
    "predicted = cross_val_predict(model, x, y, cv=StratifiedKFold(shuffle=True, n_splits=5))\n",
    "print(predicted)\n",
    "print(metrics.confusion_matrix(y, predicted)) "
   ]
  },
  {
   "cell_type": "markdown",
   "metadata": {},
   "source": [
    "9\\. Given your confusion matrix, how many true positives / true negatives / false positives / false negatives are there? Do you have many more type I errors (false positives) than type II errors (false negatives)?"
   ]
  },
  {
   "cell_type": "raw",
   "metadata": {},
   "source": [
    "true positive=5383\n",
    "true negative=13435\n",
    "false positive=3091\n",
    "false negative=3091\n",
    "I got the saame number of false positive and false negative"
   ]
  },
  {
   "cell_type": "markdown",
   "metadata": {},
   "source": [
    "10\\. Let's now switch to a SVC classifier. Leaving the parameters of the classifier at their default values, run a five-fold cross validation and report the scores just like you did above for the decision tree. (Note: SVMs are slow so this might take some time, a good 5 minutes on my laptop). Which algorithm performs better? "
   ]
  },
  {
   "cell_type": "code",
   "execution_count": 3,
   "metadata": {},
   "outputs": [],
   "source": [
    "from sklearn.svm import SVC\n",
    "model = SVC()\n",
    "scores = cross_val_score(model, x, y, cv=StratifiedKFold(shuffle=True, n_splits=5), scoring='recall') \n",
    "print(scores) \n",
    "print(np.mean(scores))\n",
    "print(np.std(scores))"
   ]
  },
  {
   "cell_type": "markdown",
   "metadata": {},
   "source": [
    "11\\. Report the confusion matrix for the SVC algorithm. Do you notice a change in the distribution of the false positives and false negatives, with respect to the decision tree algorithm?"
   ]
  },
  {
   "cell_type": "code",
   "execution_count": 55,
   "metadata": {},
   "outputs": [],
   "source": [
    "import itertools\n",
    "\n",
    "def plot_confusion_matrix(cm, classes,\n",
    "                          normalize=False,\n",
    "                          title='Confusion matrix',\n",
    "                          cmap=plt.cm.Blues):\n",
    "    \"\"\"\n",
    "    This function prints and plots the confusion matrix.\n",
    "    Normalization can be applied by setting `normalize=True`.\n",
    "    \"\"\"\n",
    "    if normalize:\n",
    "        cm = cm.astype('float') / cm.sum(axis=1)[:, np.newaxis]\n",
    "        print(\"Normalized confusion matrix\")\n",
    "    else:\n",
    "        print('Confusion matrix, without normalization')\n",
    "\n",
    "    print(cm)\n",
    "\n",
    "    plt.imshow(cm, interpolation='nearest', cmap=cmap)\n",
    "    plt.title(title)\n",
    "    plt.colorbar()\n",
    "    tick_marks = np.arange(len(classes))\n",
    "    plt.xticks(tick_marks, classes, rotation=45)\n",
    "    plt.yticks(tick_marks, classes)\n",
    "\n",
    "    fmt = '.2f' if normalize else 'd'\n",
    "    thresh = cm.max() / 2.\n",
    "    for i, j in itertools.product(range(cm.shape[0]), range(cm.shape[1])):\n",
    "        plt.text(j, i, format(cm[i, j], fmt),\n",
    "                 horizontalalignment=\"center\",\n",
    "                 color=\"white\" if cm[i, j] > thresh else \"black\")\n",
    "\n",
    "    plt.tight_layout()\n",
    "    plt.ylabel('True label')\n",
    "    plt.xlabel('Predicted label')"
   ]
  },
  {
   "cell_type": "code",
   "execution_count": 52,
   "metadata": {},
   "outputs": [
    {
     "name": "stderr",
     "output_type": "stream",
     "text": [
      "C:\\Users\\merye\\Anaconda3\\lib\\site-packages\\sklearn\\svm\\base.py:196: FutureWarning: The default value of gamma will change from 'auto' to 'scale' in version 0.22 to account better for unscaled features. Set gamma explicitly to 'auto' or 'scale' to avoid this warning.\n",
      "  \"avoid this warning.\", FutureWarning)\n",
      "C:\\Users\\merye\\Anaconda3\\lib\\site-packages\\sklearn\\svm\\base.py:196: FutureWarning: The default value of gamma will change from 'auto' to 'scale' in version 0.22 to account better for unscaled features. Set gamma explicitly to 'auto' or 'scale' to avoid this warning.\n",
      "  \"avoid this warning.\", FutureWarning)\n",
      "C:\\Users\\merye\\Anaconda3\\lib\\site-packages\\sklearn\\svm\\base.py:196: FutureWarning: The default value of gamma will change from 'auto' to 'scale' in version 0.22 to account better for unscaled features. Set gamma explicitly to 'auto' or 'scale' to avoid this warning.\n",
      "  \"avoid this warning.\", FutureWarning)\n",
      "C:\\Users\\merye\\Anaconda3\\lib\\site-packages\\sklearn\\svm\\base.py:196: FutureWarning: The default value of gamma will change from 'auto' to 'scale' in version 0.22 to account better for unscaled features. Set gamma explicitly to 'auto' or 'scale' to avoid this warning.\n",
      "  \"avoid this warning.\", FutureWarning)\n",
      "C:\\Users\\merye\\Anaconda3\\lib\\site-packages\\sklearn\\svm\\base.py:196: FutureWarning: The default value of gamma will change from 'auto' to 'scale' in version 0.22 to account better for unscaled features. Set gamma explicitly to 'auto' or 'scale' to avoid this warning.\n",
      "  \"avoid this warning.\", FutureWarning)\n"
     ]
    }
   ],
   "source": [
    "predicted2 = cross_val_predict(model, x, y, cv=StratifiedKFold(shuffle=True, n_splits=5))"
   ]
  },
  {
   "cell_type": "code",
   "execution_count": null,
   "metadata": {},
   "outputs": [],
   "source": [
    "\n",
    "from sklearn.metrics import confusion_matrix\n",
    "cnf_matrix = confusion_matrix(y, predicted2)\n",
    "np.set_printoptions(precision=2)\n",
    "plt.figure()\n",
    "plot_confusion_matrix(cnf_matrix, classes=['0','1'],\n",
    "                      title='Confusion matrix')"
   ]
  },
  {
   "cell_type": "markdown",
   "metadata": {},
   "source": [
    "12\\. We can now do the nested cross validation to optimize the parameters of the SVC. Because it would otherwise take a long time, we can select the first 10% of the data set (after shuffling the data set). We did something like this when we were doing learning curves in Worksheet 4 (questions 11 and 12). Select the first 10% of the data set, both for feature and labels."
   ]
  },
  {
   "cell_type": "code",
   "execution_count": 9,
   "metadata": {},
   "outputs": [],
   "source": [
    "number_samples = x.shape[0]\n",
    "from sklearn.utils import shuffle\n",
    "x, y = shuffle(x, y, random_state=10)\n",
    "xlittle, ylittle = x[:int(number_samples*0.01),:], y[:int(number_samples*0.01)]"
   ]
  },
  {
   "cell_type": "markdown",
   "metadata": {},
   "source": [
    "13\\. Set up and run a nested cross validation with 5 outer folds and 3 inner folds. Your GridSearch CV will have the following parameters: \n",
    "\n",
    "parameters = {'kernel':['linear','rbf'],'C':[1, 10, 100], 'gamma':[0.01, 0.1, 0.5], 'class_weight':[{1:1},{1:3},{1:5}]}\n",
    "\n",
    "You can use the last example (\"putting them all together\") from the SVMs and Hyperparameter fitting notebook, but remember to change the scoring parameter to match what you did above.\n",
    "\n",
    "Note: this might take time! Set verbose = 2 in the GridSearchCV to follow the progress, and set njobs = 4 or more to speed up the process. If your machine can't handle it, you can reduce the size of the data set to 5% of the original. \n",
    "\n",
    "#### Report the scores and parameters values of the best model.\n",
    "\n",
    "Note: some times that code has given me an issue of creating \"Nan\" in the ylittle_train arrays. If this happens, you can try substituting the lines\n",
    "\n",
    "ylittle_train = ylittle[train_index]\n",
    "ylittle_test = ylittle[test_index]\n",
    "    \n",
    "with \n",
    "\n",
    "ylittle_train = ylittle.iloc[train_index]\n",
    "ylittle_test = ylittle.iloc[test_index]\n",
    "\n",
    "(see https://stackoverflow.com/questions/39376967/nans-suddenly-appearing-for-sklearn-kfolds)"
   ]
  },
  {
   "cell_type": "code",
   "execution_count": 9,
   "metadata": {},
   "outputs": [],
   "source": [
    "from sklearn.model_selection import GridSearchCV\n",
    "from sklearn import metrics"
   ]
  },
  {
   "cell_type": "code",
   "execution_count": null,
   "metadata": {},
   "outputs": [
    {
     "name": "stdout",
     "output_type": "stream",
     "text": [
      "Fold  1 outer cross validation\n",
      "Fitting 4 folds for each of 54 candidates, totalling 216 fits\n"
     ]
    },
    {
     "name": "stderr",
     "output_type": "stream",
     "text": [
      "[Parallel(n_jobs=4)]: Using backend LokyBackend with 4 concurrent workers.\n",
      "[Parallel(n_jobs=4)]: Done  33 tasks      | elapsed:   10.7s\n",
      "[Parallel(n_jobs=4)]: Done 154 tasks      | elapsed:  3.7min\n",
      "[Parallel(n_jobs=4)]: Done 216 out of 216 | elapsed: 15.1min finished\n",
      "C:\\Users\\merye\\Anaconda3\\lib\\site-packages\\sklearn\\model_selection\\_search.py:841: DeprecationWarning: The default of the `iid` parameter will change from True to False in version 0.22 and will be removed in 0.24. This will change numeric results when test-set sizes are unequal.\n",
      "  DeprecationWarning)\n"
     ]
    },
    {
     "name": "stdout",
     "output_type": "stream",
     "text": [
      "Best params, best score: 0.9860 {'C': 1, 'class_weight': {1: 5}, 'gamma': 0.01, 'kernel': 'linear'}\n",
      "Time per model (s): 4.2135\n",
      "Fold  2 outer cross validation\n",
      "Fitting 4 folds for each of 54 candidates, totalling 216 fits\n"
     ]
    },
    {
     "name": "stderr",
     "output_type": "stream",
     "text": [
      "[Parallel(n_jobs=4)]: Using backend LokyBackend with 4 concurrent workers.\n",
      "[Parallel(n_jobs=4)]: Done 183 tasks      | elapsed:  9.2min\n",
      "[Parallel(n_jobs=4)]: Done 216 out of 216 | elapsed: 17.3min finished\n",
      "C:\\Users\\merye\\Anaconda3\\lib\\site-packages\\sklearn\\model_selection\\_search.py:841: DeprecationWarning: The default of the `iid` parameter will change from True to False in version 0.22 and will be removed in 0.24. This will change numeric results when test-set sizes are unequal.\n",
      "  DeprecationWarning)\n"
     ]
    },
    {
     "name": "stdout",
     "output_type": "stream",
     "text": [
      "Best params, best score: 0.9861 {'C': 1, 'class_weight': {1: 5}, 'gamma': 0.01, 'kernel': 'linear'}\n",
      "Time per model (s): 4.8671\n",
      "Fold  3 outer cross validation\n",
      "Fitting 4 folds for each of 54 candidates, totalling 216 fits\n"
     ]
    },
    {
     "name": "stderr",
     "output_type": "stream",
     "text": [
      "[Parallel(n_jobs=4)]: Using backend LokyBackend with 4 concurrent workers.\n",
      "[Parallel(n_jobs=4)]: Done 156 tasks      | elapsed:  5.8min\n",
      "[Parallel(n_jobs=4)]: Done 216 out of 216 | elapsed: 16.5min finished\n",
      "C:\\Users\\merye\\Anaconda3\\lib\\site-packages\\sklearn\\model_selection\\_search.py:841: DeprecationWarning: The default of the `iid` parameter will change from True to False in version 0.22 and will be removed in 0.24. This will change numeric results when test-set sizes are unequal.\n",
      "  DeprecationWarning)\n"
     ]
    },
    {
     "name": "stdout",
     "output_type": "stream",
     "text": [
      "Best params, best score: 0.9575 {'C': 1, 'class_weight': {1: 5}, 'gamma': 0.01, 'kernel': 'linear'}\n",
      "Time per model (s): 4.6078\n"
     ]
    }
   ],
   "source": [
    "#Important! COMMENT\n",
    "\n",
    "#Outer k-fold:\n",
    "import time\n",
    "outercv = StratifiedKFold(n_splits=5, shuffle=True) #creates 5 disjoint splits\n",
    "\n",
    "innercv = StratifiedKFold(n_splits=4, shuffle=True) #creates 4 disjoint splits\n",
    "\n",
    "i=0\n",
    "\n",
    "winning_model_scores = []\n",
    "\n",
    "for train_index, test_index in outercv.split(xlittle,ylittle): #This runs the outer cross validation\n",
    "    \n",
    "    i+=1\n",
    "    \n",
    "    print('Fold ' ,i, 'outer cross validation')\n",
    "    \n",
    "    Xlittle_train = xlittle[train_index] #\"yellow\" training set\n",
    "    ylittle_train = ylittle[train_index]\n",
    "    \n",
    "    Xlittle_test = xlittle[test_index]\n",
    "    ylittle_test = ylittle[test_index]\n",
    "    \n",
    "    #optimizing SVC: this replaces the inner loop!\n",
    "    \n",
    "    parameters = {'kernel':['rbf','linear'],'gamma':[0.01, 0.05, 0.1], 'C':[1,10,100],\\\n",
    "                  'class_weight':[{1:1},{1:3},{1:5}]}\n",
    "    nmodels = np.product([len(el) for el in parameters.values()])\n",
    "    start = time.time()\n",
    "    model = GridSearchCV(SVC(), parameters, cv = innercv, scoring = 'recall', \\\n",
    "                     verbose = 2, n_jobs = 4)\n",
    "    model.fit(Xlittle_train, ylittle_train)\n",
    "    stop = time.time()\n",
    "    print('Best params, best score:', \"{:.4f}\".format(model.best_score_), model.best_params_)\n",
    "    print('Time per model (s):', \"{:.4f}\".format((stop-start)/float(nmodels*4)))\n",
    "\n",
    "    #Compute test scores with optimal parameters on outer i-th test fold\n",
    "    \n",
    "    winner = model.best_estimator_\n",
    "    \n",
    "    winner.fit(Xlittle_train, ylittle_train)\n",
    "    \n",
    "    ypred = winner.predict(Xlittle_test)\n",
    "    \n",
    "    winning_model_scores.append(metrics.recall_score(ylittle_test,ypred)) #append this to the outer cv results\n",
    "    \n",
    "print('The average of the winning model scores (i.e. the generalization error) is', \\\n",
    "      np.mean(winning_model_scores), np.std(winning_model_scores) )\n"
   ]
  },
  {
   "cell_type": "markdown",
   "metadata": {},
   "source": [
    "15\\. Now that you have optimized the parameters, you can run the 5 fold cross validation on the original data set, basically what you did in 10., but fixing the parameter values at the \"optimal values\" found above (i.e., choose the model that was most often selected as the winner model). What are the mean and standard deviation of the scores?"
   ]
  },
  {
   "cell_type": "code",
   "execution_count": 2,
   "metadata": {},
   "outputs": [],
   "source": [
    "from sklearn.svm import SVC\n",
    "?SVC"
   ]
  },
  {
   "cell_type": "code",
   "execution_count": null,
   "metadata": {},
   "outputs": [],
   "source": [
    "from sklearn.svm import SVC\n",
    "model = SVC(C= 1, class_weight= {1: 5}, gamma= 0.01, kernel= 'linear')\n",
    "scores = cross_val_score(model, x, y, cv=StratifiedKFold(shuffle=True, n_splits=5), scoring='recall',n_jobs=6) \n",
    "print(scores) \n",
    "print(np.mean(scores))\n",
    "print(np.std(scores))"
   ]
  },
  {
   "cell_type": "markdown",
   "metadata": {},
   "source": [
    "16\\. Based on what you found, would you recommend to use a Decision Tree Classifier or a Support Vector Classifier for this problem?"
   ]
  },
  {
   "cell_type": "raw",
   "metadata": {},
   "source": [
    "Based on the results I got, I think that the SVC with parameter optimization is much better than the Decision Tree Classifier, because we get better scores and the performance is better. "
   ]
  },
  {
   "cell_type": "markdown",
   "metadata": {},
   "source": [
    "Extra Credit: The object GridSearchCV (probably called clf in your code) that you created in 13. has an attribute \"grid\\_scores\\_\" that allows you to visualize the scores for every combination of parameters (if you are using sklearn version 0.19 and above, the attribute is named cv\\_results\\_). Based on this, which parameter has the highest impact (induces the largest change) on the performance of the SVC? Do you think it might be worth optimizing it further?"
   ]
  },
  {
   "cell_type": "raw",
   "metadata": {
    "collapsed": true
   },
   "source": [
    "From Question 13, Ibelieve that the class's weight has more impact on the performance of the SVC. I don't think that it's worth optimizing because we did reach good scores with the parameter that we have chosen."
   ]
  }
 ],
 "metadata": {
  "kernelspec": {
   "display_name": "Python 3",
   "language": "python",
   "name": "python3"
  },
  "language_info": {
   "codemirror_mode": {
    "name": "ipython",
    "version": 3
   },
   "file_extension": ".py",
   "mimetype": "text/x-python",
   "name": "python",
   "nbconvert_exporter": "python",
   "pygments_lexer": "ipython3",
   "version": "3.7.1"
  }
 },
 "nbformat": 4,
 "nbformat_minor": 2
}
